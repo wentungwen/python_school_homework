{
 "cells": [
  {
   "cell_type": "markdown",
   "metadata": {
    "collapsed": false
   },
   "source": [
    "# Worksheet 2: A Python Programming Love Story\n",
    "\n",
    "When you ask people the question: \"What is the language of love?\" Many people will say French, and maybe some will say something like Spanish. Well, I'm here to tell you that these people are either ignorant, or filthy liars. It is a fact that Python is the true language of love, and today's worksheet is all about love, as Valentine's day is coming up as well."
   ]
  },
  {
   "cell_type": "markdown",
   "metadata": {
    "collapsed": false
   },
   "source": [
    "Remember: **Google is your friend**! Functions are explained in more detail (amongst others) on the Python website, and the website \"Stackoverflow.com\" probably has the answer to all your issues. So if you add \"site:stackoverflow.com\" to your Google query, you should be able to find someone who was experiencing a similar issue, and the way to solve it.\n",
    "\n",
    "Also, important to keep in mind: **bonus exercises are optional**. They provide a bit more challenge and depth for people that like such a thing. But do not feel obligated to do the bonus exercises."
   ]
  },
  {
   "cell_type": "markdown",
   "metadata": {
    "collapsed": false
   },
   "source": [
    "## Functions and libraries\n",
    "\n",
    "There are some standard functions in Python, such as `print()`, which you have seen when working on the previous Worksheet. Other such common functions are `str()`, `float()`, `int()`, and `input()`. A function is basically just a self-contained bit of code that does something. We have also discussed functions during the lecture. They can be a nice way of compartmentalizing different bits of code, but they are not going to play a big role during this course. You can recognize a function by the parentheses `()`; anything inside the parentheses is an argument, or input, to the function."
   ]
  },
  {
   "cell_type": "code",
   "execution_count": null,
   "metadata": {
    "collapsed": false,
    "pycharm": {
     "is_executing": true
    }
   },
   "outputs": [],
   "source": [
    "## Code block 1: Testing float()\n",
    "\n",
    "#First we store the number 6 in the variable \"int1\"\n",
    "int1 = 6\n",
    "print(int1)\n",
    "\n",
    "#Then we convert the variable 6 (\"int1\") to a floating-point number, using float()\n",
    "float1 = float(int1)\n",
    "print(float1)"
   ]
  },
  {
   "cell_type": "markdown",
   "metadata": {
    "collapsed": false
   },
   "source": [
    "Functions add more functionality to Python. Some functions are so important that they have been added to the standard Python software. However, other functions are stored in a _library_ (which are basically just add-ons with extra functions) because they are a bit less common. During this course, we will look at some of those libraries that have been installed by Python but are hidden away. There are also libraries that have not been installed by Python, and you have to install yourself. These contain even more specific functions. For now, we will focus on the libraries that we do not have to install ourselves. We use those libraries by importing them. This can be done by adding the following piece of code at the top of our code:"
   ]
  },
  {
   "cell_type": "code",
   "execution_count": null,
   "metadata": {
    "collapsed": false,
    "pycharm": {
     "is_executing": true
    }
   },
   "outputs": [],
   "source": [
    "## Code block 2: Importing a library\n",
    "import libraryname"
   ]
  },
  {
   "cell_type": "markdown",
   "metadata": {
    "collapsed": false
   },
   "source": [
    "Of course, we have to change _libraryname_ to the name of the library we want to use. Code chunk 1 is going to give us a ModuleNotFoundError as Python does not know a library named _libraryname_.\n",
    "\n",
    "For some of the exercises, we are going to use the **random** library. Look this one up on Google, and see what functions it has. If you want more information about a specific function, you can type the name of the function without parentheses in a code block with a question mark behind it. So, if you want to know what the `str()` function does, you type `str?`."
   ]
  },
  {
   "cell_type": "code",
   "execution_count": 10,
   "metadata": {
    "collapsed": false
   },
   "outputs": [],
   "source": [
    "## Code block 3: Inspecting what a function does.\n",
    "\n",
    "str?"
   ]
  },
  {
   "cell_type": "markdown",
   "metadata": {
    "collapsed": false
   },
   "source": [
    "A new window now provides us with a definition of the `str()` function. You can also find this online, but this may be a bit quicker and easier. Try it for other functions as well."
   ]
  },
  {
   "cell_type": "markdown",
   "metadata": {
    "collapsed": false
   },
   "source": [
    "## Lists\n",
    "\n",
    "As you have seen in the lecture, lists are one of the options to store a collection of values. Lists store these values with a set order, and values can take on all forms."
   ]
  },
  {
   "cell_type": "code",
   "execution_count": null,
   "metadata": {
    "collapsed": false
   },
   "outputs": [],
   "source": [
    "## Code block 4: Different types of lists\n",
    "\n",
    "mystringlist = ['Chocolate', 'Necklace', 'Flowers']\n",
    "print(mystringlist)\n",
    "\n",
    "myintlist = [6, 7, 8]\n",
    "print(myintlist)\n",
    "\n",
    "mybooleanlist = [True, False, False]\n",
    "print(mybooleanlist)\n",
    "\n",
    "mycombinedlist = ['Chocolate', 6, True]\n",
    "print(mycombinedlist)"
   ]
  },
  {
   "cell_type": "markdown",
   "metadata": {
    "collapsed": false
   },
   "source": [
    "**[Exercise 1]** What was also discussed in the lecture was that lists are mutable. Try to change things about the following lists by using code:\n",
    "\n",
    "- Add a value at the end of the first list\n",
    "- Remove the first value from the second list\n",
    "- Insert a value in the third position of the third list\n",
    "- Extend the fourth list by adding another list (of at least two items) to it\n",
    "\n",
    "Hint: Google which built-in list methods Python has for this."
   ]
  },
  {
   "cell_type": "code",
   "execution_count": 15,
   "metadata": {
    "collapsed": false
   },
   "outputs": [
    {
     "name": "stdout",
     "output_type": "stream",
     "text": [
      "['ice skate rink', 'restaurant', 'aquarium', 'zoo', 'value'] ['whipping cream', 'chipotle peppers', 'strawberries'] ['Just the Way You Are', 'If I Aint Got You', 'value', 'All You Need Is Love', 'Youre Still the One', 'Teenage Dream'] ['Notting Hill', 'About Time', 'Mamma Mia', 'Shrek 2', 'ice skate rink', 'restaurant', 'aquarium', 'zoo', 'value']\n"
     ]
    }
   ],
   "source": [
    "## Exercise 1: Modify lists\n",
    "\n",
    "locations = ['ice skate rink', 'restaurant', 'aquarium', 'zoo']\n",
    "ingredients = ['chocolate', 'whipping cream', 'chipotle peppers', 'strawberries']\n",
    "music = ['Just the Way You Are', 'If I Aint Got You', 'All You Need Is Love', 'Youre Still the One', 'Teenage Dream']\n",
    "movies = ['Notting Hill', 'About Time', 'Mamma Mia', 'Shrek 2']\n",
    "\n",
    "locations.append(\"value\")\n",
    "ingredients.pop(0)\n",
    "music.insert(2, \"value\")\n",
    "for n in locations:\n",
    "    movies.append(n)\n",
    "\n",
    "print(locations, ingredients, music, movies)"
   ]
  },
  {
   "cell_type": "markdown",
   "metadata": {
    "collapsed": false
   },
   "source": [
    "Having a collection of values is not worth much if you can't retrieve anything from them. Later on in this worksheet we are going to look at how to retrieve multiple values from a list, but for now let's focus on retrieving one value. Remember that in Python, we start counting from 0, not 1. Play around with the list, the numbers, and the arguments in the code block below if you want to get a better grasp of lists."
   ]
  },
  {
   "cell_type": "code",
   "execution_count": null,
   "metadata": {
    "collapsed": false,
    "pycharm": {
     "is_executing": true
    }
   },
   "outputs": [],
   "source": [
    "## Code block 5: Retrieving from lists\n",
    "\n",
    "mystringlist = ['Chocolate', 'Necklace', 'Flowers', 'Teddy bear', 'Space Jam DVD']\n",
    "\n",
    "#Retrieve a single (the first) value\n",
    "firstlist = mystringlist[0]\n",
    "print(firstlist)\n",
    "\n",
    "#Retrieve multiple values (from the first value until the third)\n",
    "multilist = mystringlist[:3]\n",
    "print(multilist)\n",
    "\n",
    "#Retrieving the index of a list\n",
    "listindex = mystringlist.index('Teddy bear')\n",
    "print(listindex)"
   ]
  },
  {
   "cell_type": "markdown",
   "metadata": {
    "collapsed": false
   },
   "source": [
    "**[Exercise 2]** Let's imagine you are desperate to go on a date with someone. Of course, you want to go with your first choice, but maybe they will not like you back... You have also heard that something you're looking for is always in the last place you would look. Maybe that's also the case for a date?\n",
    "\n",
    "Write a code that prints the first and last item from a list. This list can be of any size, and the list items can be in any order. It just picks the first and last item from the list and puts them together in a new list. So if you have a list such as `[\"Monica\", \"Erica\", \"Rita\", \"Tina\", \"Sandra\", \"Mary\", \"Jessica\"]`, you want to have `[\"Monica\", \"Jessica\"]` as the final output."
   ]
  },
  {
   "cell_type": "code",
   "execution_count": null,
   "metadata": {
    "collapsed": false
   },
   "outputs": [],
   "source": [
    "## Exercise 2: First and Last\n",
    "\n",
    "names = [\"Monica\", \"Erica\", \"Rita\", \"Tina\", \"Sandra\", \"Mary\", \"Jessica\"]\n",
    "del names[1:len(names)-1]\n",
    "print(names) "
   ]
  },
  {
   "cell_type": "markdown",
   "metadata": {
    "collapsed": false
   },
   "source": [
    "## Dictionaries\n",
    "\n",
    "Another way you can use to store collections of values is through dictionaries. They contain keys and values, rather than just values, which makes them more powerful but also a bit more complex compared to lists. The values can take on all forms, just like the items in a list. For keys it is mostly important to remember that they should be unique. And keys can only be strings, integers, floating-point numbers (nowadays), and boolean values (nowadays). But generally you would just want to use strings or integers when working with a dictionary."
   ]
  },
  {
   "cell_type": "code",
   "execution_count": 24,
   "metadata": {
    "collapsed": false
   },
   "outputs": [
    {
     "name": "stdout",
     "output_type": "stream",
     "text": [
      "{'gift1': 'Chocolate', 'gift2': 'Necklace', 'gift3': 'Flowers'}\n",
      "{1: 9, 2: 8, 3: 7}\n",
      "{'Yes': 2, 'No': False}\n"
     ]
    }
   ],
   "source": [
    "## Code block 6: Different types of dictionaries\n",
    "\n",
    "#This works\n",
    "mystringdict = {'gift1': 'Chocolate', 'gift2': 'Necklace', 'gift3': 'Flowers'}\n",
    "print(mystringdict)\n",
    "\n",
    "#This works\n",
    "myintdict = {1: 9, 2: 8, 3: 7}\n",
    "print(myintdict)\n",
    "\n",
    "#But this is strange\n",
    "mybooleandict = {\n",
    "    'Yes': True, \n",
    "    'Yes': 'So true', \n",
    "    'Yes':2,\n",
    "    'No': False}\n",
    "print(mybooleandict)"
   ]
  },
  {
   "cell_type": "markdown",
   "metadata": {
    "collapsed": false
   },
   "source": [
    "**[Exercise 3]** First, create a dictionary that:\n",
    "- contains the name of a restaurant\n",
    "- contains the signature dish of the restaurant\n",
    "- contains the price of that signature dish\n",
    "\n",
    "Then, using code, try to:\n",
    "\n",
    "- Add the street name of where that restaurant is located\n",
    "- Remove the price of the signature dish"
   ]
  },
  {
   "cell_type": "code",
   "execution_count": 27,
   "metadata": {
    "collapsed": false
   },
   "outputs": [
    {
     "name": "stdout",
     "output_type": "stream",
     "text": [
      "{'name': 'Restaurant Minos', 'name_signature_dish': 'yummy dishes', 'street': 'a_street_name'}\n"
     ]
    }
   ],
   "source": [
    "## Exercise 3: Restaurant information\n",
    "restaurant={\n",
    "    \"name\": \"Restaurant Minos\",\n",
    "    \"name_signature_dish\":\"yummy dishes\",\n",
    "    \"price_signature_dish\": 121\n",
    "}\n",
    "\n",
    "restaurant[\"street\"]=\"a_street_name\"\n",
    "del restaurant[\"price_signature_dish\"]\n",
    "print(restaurant)\n"
   ]
  },
  {
   "cell_type": "markdown",
   "metadata": {
    "collapsed": false
   },
   "source": [
    "Similar to lists, dictionaries are also mainly a tool to retrieve collections of data at a later point. Retrieving from a dictionary is also a bit more complex compared to a list, as you have these key-value pairs, rather than just values. Finding a value is the only thing that is easy to do. We will come back to this when we will discuss for-loops. Do note, while dictionaries are more complex, the structure that a dictionary brings, could be beneficial in many cases."
   ]
  },
  {
   "cell_type": "code",
   "execution_count": null,
   "metadata": {
    "collapsed": false,
    "pycharm": {
     "is_executing": true
    }
   },
   "outputs": [],
   "source": [
    "## Code block 7: Retrieving from dictionaries\n",
    "\n",
    "mystringdict = {'Gift 1': 'Chocolate', 'Gift 2': 'Necklace', 'Gift 3': 'Flowers', 'Gift 4': 'Teddy bear', 'Gift 5': 'Space Jam DVD'}\n",
    "\n",
    "#Retrieve a single value of the first key\n",
    "firstdict = mystringdict['Gift 1']\n",
    "print(firstdict)\n",
    "#Or\n",
    "firstdict2 = mystringdict.get('Gift 2')\n",
    "print(firstdict2)"
   ]
  },
  {
   "cell_type": "markdown",
   "metadata": {
    "collapsed": false
   },
   "source": [
    "**[Exercise 4]** According to astrology, some zodiac signs match more with your zodiac sign than others. You have found a Python dictionary that rates your chances of relationship success with every zodiac sign on a scale of 1-10. You write a script that takes a zodiac sign as input (look up the `input()` function for this; you can assume that input is always a key in the dictionary). The script has three possible outcomes based on what you give as input:\n",
    "\n",
    "- If the zodiac sign's success chance is equal to or less than 5, have the script print `Unfortunately, this is not going to work out.` as output.\n",
    "- If the zodiac sign's success chance is more than 5 and equal or less than 7, have the script print `It is not certain, but there is potential here.` as output.\n",
    "- If the zodiac sign's success chance is more than 7, have the script print `This may be your soulmate.` as output.\n",
    "\n",
    "So the output will look something like this:\n",
    "\n",
    "`Input: libra`\n",
    "`This may be your soulmate.`\n",
    "\n",
    "**[Bonus exercise 1]** Bonus exercises are optional. In your infinite wisdom, you reason that if you date multiple people, these relationship success scores would just add up. Meaning that you become more successful, the more people you date. That's why you write an \"improved\" version of the astrology check that sums scores. More specifically, it should do the following:\n",
    "\n",
    "- If the user enters a zodiac sign, the program prints the match score and the sum of all zodiac signs you have entered into the program. It then asks the user again to enter a zodiac sign.\n",
    "- If the user enters something that is not a zodiac sign, the program scolds the user (mildly). It then asks the user again to enter a zodiac sign.\n",
    "- If the user enters an empty string, the program stops prompting and prints the total amount.\n",
    "\n",
    "So it will look something like this:\n",
    "\n",
    "`Input: sagittarius`\n",
    "`sagitarius gives a match score of 3, total is 3`\n",
    "`Input: taurus`\n",
    "`taurus gives a match score of 2, total is 5`\n",
    "`Input: lobster`\n",
    "`Sorry, we cannot match you with any lobsters.`\n",
    "`Order: <enter>`\n",
    "`Your total is 5`\n",
    "\n",
    "Hint 1: `while True` may be helpful here\n",
    "Hint 2: you can check to see if a key is in a dictionary with the `in` operator"
   ]
  },
  {
   "cell_type": "code",
   "execution_count": 45,
   "metadata": {
    "collapsed": false
   },
   "outputs": [
    {
     "name": "stdout",
     "output_type": "stream",
     "text": [
      "cancer gives a match score of Unfortunately, this is not going to work out, total is 3\n",
      "libra gives a match score of This may be your soulmate, total is 13\n"
     ]
    }
   ],
   "source": [
    "## Exercise 4: Zodiac match\n",
    "\n",
    "zodiacsigns = {'aquarius': 3, 'pisces': 9, 'aries': 6, 'taurus': 2, 'gemini': 4, 'cancer': 3, 'leo': 7, 'virgo': 5, 'libra': 10, 'scorpio': 6, 'sagittarius': 3, 'capricorn': 8}\n",
    "is_end = False\n",
    "sum = 0\n",
    "\n",
    "def judge_input(chosen_zodiac):\n",
    "    \"\"\"return string outcome\"\"\"\n",
    "    if chosen_zodiac in zodiacsigns:\n",
    "        return True\n",
    "    else:\n",
    "        return False\n",
    "\n",
    "\n",
    "def zodiac_result(chosen_zodiac_num):\n",
    "    \"\"\"return a string of response\"\"\"\n",
    "    if chosen_zodiac_num >=7:\n",
    "        return 'This may be your soulmate'\n",
    "    elif chosen_zodiac_num >= 5:\n",
    "        return 'It is not certain, but there is potential here'\n",
    "    else :\n",
    "        return 'Unfortunately, this is not going to work out'\n",
    "\n",
    "\n",
    "while is_end == False:\n",
    "    chosen_zodiac = input(\"Choose your zodiac: \")\n",
    "    judge_result = judge_input(chosen_zodiac)\n",
    "    if judge_result:\n",
    "        sum += zodiacsigns[chosen_zodiac]\n",
    "        print(f\"{chosen_zodiac} gives a match score of {zodiac_result(zodiacsigns[chosen_zodiac])}, total is {sum}\") \n",
    "    elif judge_result == \"\":\n",
    "        print(sum)\n",
    "    else:\n",
    "        print(\"re-enter!\")\n",
    "\n",
    "    if input(\"Do you want to continue? y/n: \") == \"n\":\n",
    "        is_end = True\n"
   ]
  },
  {
   "cell_type": "code",
   "execution_count": null,
   "metadata": {
    "collapsed": false
   },
   "outputs": [],
   "source": [
    "## Exercise 4: Zodiac match\n",
    "\n",
    "zodiacsigns = {'aquarius': 3, 'pisces': 9, 'aries': 6, 'taurus': 2, 'gemini': 4, 'cancer': 3, 'leo': 7, 'virgo': 5, 'libra': 10, 'scorpio': 6, 'sagittarius': 3, 'capricorn': 8}\n",
    "is_end = False\n",
    "sum = 0\n",
    "\n",
    "def judge_input(chosen_zodiac, sum, is_end):\n",
    "    \"\"\"return [chosen_zodiac, sum, is_end]\"\"\"\n",
    "    if chosen_zodiac in zodiacsigns:\n",
    "      num = zodiacsigns[chosen_zodiac]\n",
    "      sum += num\n",
    "      print(zodiac_result(num))\n",
    "      print(f\"{chosen_zodiac.capitalize()} gives a match score of {num}, total is {sum}\") \n",
    "      if input(\"Do you want to continue? y/n: \") == \"n\":\n",
    "        is_end = True\n",
    "    elif chosen_zodiac == \"\":\n",
    "      is_end = True\n",
    "      num = 0\n",
    "      print(f\"The sum is {sum}\")\n",
    "    else:\n",
    "      num = 0\n",
    "      print('re-enter!')\n",
    "    return [chosen_zodiac, num, sum, is_end]\n",
    "\n",
    "\n",
    "def zodiac_result(chosen_zodiac_num):\n",
    "    \"\"\"return a string of response\"\"\"\n",
    "    if chosen_zodiac_num >=7:\n",
    "        return 'This may be your soulmate.'\n",
    "    elif chosen_zodiac_num >= 5:\n",
    "        return 'It is not certain, but there is potential here.'\n",
    "    else :\n",
    "        return 'Unfortunately, this is not going to work out.'\n",
    "\n",
    "\n",
    "while is_end == False:\n",
    "  chosen = judge_input(input(\"Choose your zodiac: \"), sum, is_end)\n",
    "  sum = chosen[2]\n",
    "  is_end = chosen[3]"
   ]
  },
  {
   "cell_type": "markdown",
   "metadata": {
    "collapsed": false
   },
   "source": [
    "## Loops\n",
    "\n",
    "During the lecture, two types of loops were discussed: `for` loops and `while` loops. They can both help us to read multiple values in lists or dictionaries, one-by-one. In most cases, you can figure out a way for a `for` loop and a `while` loop to work. In those instances, `for` loops are generally preferred as they require less code, which means that less can go wrong. However, `while` loops offer a bit more control over the loop, which may be handy in some rare cases (which we are not likely going to face during this course)."
   ]
  },
  {
   "cell_type": "code",
   "execution_count": null,
   "metadata": {
    "collapsed": false,
    "pycharm": {
     "is_executing": true
    }
   },
   "outputs": [],
   "source": [
    "## Code block 8: For vs. while\n",
    "\n",
    "mystringlist = ['Chocolate', 'Necklace', 'Flowers', 'Teddy bear', 'Space Jam DVD']\n",
    "\n",
    "#The for loop iterates over the list very straightforwardly\n",
    "for gift in mystringlist:\n",
    "    print(gift)\n",
    "\n",
    "#Add an empty line to differentiate between the two methods\n",
    "print('')\n",
    "\n",
    "#The while loop requires a number to be manually tracked and updated after every iteration of the loop\n",
    "num = 0\n",
    "while num < len(mystringlist):\n",
    "    print(mystringlist[num])\n",
    "    num += 1\n",
    "\n",
    "mystringdict = {'Gift 1': 'Chocolate', 'Gift 2': 'Necklace', 'Gift 3': 'Flowers', 'Gift 4': 'Teddy bear', 'Gift 5': 'Space Jam DVD'}\n",
    "\n",
    "#With dictionaries, you can loop over the keys of the dictionary:\n",
    "for key in mystringdict:\n",
    "    print(key)\n",
    "    #To get the value assigned to this key, you have to print it similarly to how this was done in code block 7\n",
    "    #Remember, \"key\" is a variable in this case (created by \"for **key** in mystringdict)\n",
    "    #And the variable key is assigned a new value every new loop. That value is the name of each key, one at a time\n",
    "    matchvalue = mystringdict[key]\n",
    "    print(matchvalue)"
   ]
  },
  {
   "cell_type": "markdown",
   "metadata": {
    "collapsed": false
   },
   "source": [
    "What you should also note here, is the spacing of the loops. They are similar to the `if`/`elif`/`else` statements that we discussed last worksheet. Through tabs (or 4 spaces, but I will just simplify it by saying \"tabs\" from now on) you create these, what I like to call \"test islands\". Everything that you want to be inside the `for`-loop or `while`-loop requires one tab at the start of the line. When you then write a line at the same horizontal position as the loop, the loop will not take that line, or the lines after that, into account."
   ]
  },
  {
   "cell_type": "code",
   "execution_count": 2,
   "metadata": {
    "collapsed": false,
    "pycharm": {
     "is_executing": true
    }
   },
   "outputs": [
    {
     "name": "stdout",
     "output_type": "stream",
     "text": [
      "Hello!\n",
      "You may wonder how I got\n",
      "here\n",
      "\n",
      "Hello!\n",
      "You may wonder how I got\n",
      "there\n",
      "\n",
      "Hello!\n",
      "You may wonder how I got\n",
      "everywhere\n",
      "\n",
      "This part comes after the loop. It does not have any spacing. Nothing from this point onwards can be part of the loop.\n",
      "Try adding a tab at the start of this line. It will throw an IndentationError\n",
      "This is because tabs only work when they can be part of an if/elif/else statement, or for/while loop. Or a few other things that are less common.\n",
      "If they are not part of such a thing, they are just confusing to Python.\n"
     ]
    }
   ],
   "source": [
    "## Code block 9: Illustrating spacing\n",
    "\n",
    "examplelist = ['here', 'there', 'everywhere']\n",
    "\n",
    "#Go through the items in examplelist one-by-one\n",
    "for example in examplelist:\n",
    "    print('Hello!')\n",
    "    print('You may wonder how I got')\n",
    "    print(example)\n",
    "    print('')\n",
    "print('This part comes after the loop. It does not have any spacing. Nothing from this point onwards can be part of the loop.')\n",
    "print('Try adding a tab at the start of this line. It will throw an IndentationError')\n",
    "print('This is because tabs only work when they can be part of an if/elif/else statement, or for/while loop. Or a few other things that are less common.')\n",
    "print('If they are not part of such a thing, they are just confusing to Python.')"
   ]
  },
  {
   "cell_type": "markdown",
   "metadata": {
    "collapsed": false
   },
   "source": [
    "Now, to make things a bit more difficult, you can also use an `if`/`elif`/`else` statement inside a `for`/`while` loop. What does this do for spacing? Let's take a look at the following code block."
   ]
  },
  {
   "cell_type": "code",
   "execution_count": 3,
   "metadata": {
    "collapsed": false,
    "pycharm": {
     "is_executing": true
    }
   },
   "outputs": [
    {
     "name": "stdout",
     "output_type": "stream",
     "text": [
      "I am\n",
      "here\n",
      "!\n",
      "You are\n",
      "there\n",
      "!\n",
      "We are\n",
      "everywhere\n",
      "!\n"
     ]
    }
   ],
   "source": [
    "## Code block 10: Loops and if/elif/else statements spacing\n",
    "\n",
    "examplelist = ['here', 'there', 'everywhere']\n",
    "\n",
    "#Go through the items in examplelist one-by-one\n",
    "for example in examplelist:\n",
    "    if example == 'here':\n",
    "        print('I am')\n",
    "        print(example)\n",
    "    elif example == 'there':\n",
    "        print('You are')\n",
    "        print(example)\n",
    "    else:\n",
    "        print('We are')\n",
    "        print(example)\n",
    "    print('!')"
   ]
  },
  {
   "cell_type": "markdown",
   "metadata": {
    "collapsed": false
   },
   "source": [
    "Okay, this may look more complicated, but try to take it step-by-step. We are basically working on two levels of indentation.\n",
    "\n",
    "The first level of indentation are all lines belonging to the `for`-loop. That is basically everything right underneath the line with the loop itself: the `if` statement, the `elif` statement, the `else` statement, and the final `print()` function at the end. They all have received one tab at the start of the line.\n",
    "\n",
    "Then, there is a second level of indentation as well: the lines that belong to the `if`, `elif`, `else` statements respectively. They receive two tabs: one tab to indicate that they are part of the `for`-loop, and an extra tab to indicate that they are part of the `if`, `elif`, or `else` statement.\n",
    "\n",
    "In theory, programming can get very complicated this way. You can have loops, inside more loops, inside even more loops, etc. Similarly, you can have `if`/`elif`/`else` statements, inside more `if`/`elif`/`else` statements, inside even more `if`/`elif`/`else` statements, etc. We are going to try to avoid that during the course. If you want to give yourself a nice big headache, you are free to try it out, but for this course it is unnecessary."
   ]
  },
  {
   "cell_type": "markdown",
   "metadata": {
    "collapsed": false
   },
   "source": [
    "For the next two assignments, let's say you are someone's secret admirer, hopelessly in love. You just cannot think about anything else but this person, and your head is filled with all these questions and uncertainties. But because you are a real Cassanova, you know better than to just shoot your shot and ask this special someone out. Instead, you use the power of programming to get an answer to your most important questions first. Just to be sure."
   ]
  },
  {
   "cell_type": "markdown",
   "metadata": {
    "collapsed": false
   },
   "source": [
    "**[Exercise 5]** The Magic 8-Ball is a device that is used for fortune-telling. The idea is as follows:\n",
    "\n",
    "(1) the user asks a yes/no question to the Magic 8-Ball,\n",
    "(2) the user shakes the Magic 8-Ball,\n",
    "(3) the Magic 8-Ball reveals the answer to your question.\n",
    "\n",
    "Originally, the Magic 8-Ball had 20 possible answers, and shaking it would randomly select 1 of those 20 answers. The list of answers, and a more detailed description can be found here: https://en.wikipedia.org/wiki/Magic_8-ball . I have added all answers in a list for this exercise.\n",
    "\n",
    "Create a Magic 8-Ball, that takes a question as `input()`, and chooses one of the 20 possible answers randomly. The Magic 8-Ball keeps taking\n",
    "questions until the input is blank (when you just press the enter key for the input without typing anything in).\n",
    "\n",
    "The output should look something like this:\n",
    "`Question: Does she love me?`\n",
    "`Answer: Most likely.`\n",
    "`Question: Does she hate me?`\n",
    "`Answer: My sources say no.`\n",
    "`Question: Will she like my lava lamp collection?`\n",
    "`Answer: It is certain.`\n",
    "\n",
    "Hint: `while True` may be helpful here.\n",
    "\n",
    "**[Bonus exercise 2]** All is fair in love and war. Rig the Magic 8-Ball a bit. Only select an affirmative answer if the word 'love' is found in the question, and only select a negative answer if the word 'hate' is found in the question."
   ]
  },
  {
   "cell_type": "code",
   "execution_count": 9,
   "metadata": {
    "collapsed": false,
    "pycharm": {
     "is_executing": true
    }
   },
   "outputs": [
    {
     "name": "stdout",
     "output_type": "stream",
     "text": [
      "Very doubtful.\n"
     ]
    }
   ],
   "source": [
    "## Exercise 5: Magic 8-Ball\n",
    "import random\n",
    "\n",
    "magic8ball_y = ['It is certain.', 'It is decidedly so.', 'Without a doubt.', 'Yes definitely.', 'You may rely on it.', 'As I see it, yes.', \n",
    "'Most likely.', 'Outlook good.', 'Yes.', 'Signs point to yes.', 'Reply hazy, try again.', \n",
    "'Ask again later.', 'Better not tell you now.', 'Cannot predict now.', \n",
    "'Concentrate and ask again.', \"Don't count on it.\"]\n",
    "magic8ball_n =['My reply is no.', 'My sources say no.', 'Outlook not so good.', 'Very doubtful.']\n",
    "question = input(\"enter the question: \")\n",
    "if 'love' in question:\n",
    "    print(random.choice(magic8ball_y))\n",
    "elif 'hate' in question:\n",
    "    print(random.choice(magic8ball_n))\n"
   ]
  },
  {
   "cell_type": "markdown",
   "metadata": {
    "collapsed": false
   },
   "source": [
    "[Exercise 6] The Magic 8-Ball from the previous exercises did help you to clear things up a bit, but you just need a bit more information. For this exercise, you are going to look for the most important answer using the famous flower petal game: https://en.wikipedia.org/wiki/He_loves_me..._he_loves_me_not . The idea of the game is that you pick a flower (usually a daisy). Then, you start picking each petal, while saying \"they love me\" or \"they love me not\" alternately for each petal you pick. The final petal you pick will be the truth. More specifically, you will do the following:\n",
    "\n",
    "- You pick a \"daisy\" variable that contains between 5-20 petals (number of petals is randomly chosen).\n",
    "- For each count, the code prints \"they love me\" or \"they love me not\" alternately.\n",
    "- If the final petal is \"they love me not\", respond disappointed, and respond happy if the final petal is \"they love me\".\n",
    "\n",
    "The output should look like this:\n",
    "\n",
    "`They love me`\n",
    "`They love me not`\n",
    "`They love me`\n",
    "`They love me not`\n",
    "`They love me`\n",
    "`They love me not`\n",
    "`They love me`\n",
    "`Yay!`\n",
    "\n",
    "Hint: code block 5 may have important information that could help you to retrieve the right amount of \"petals\" from `maximumpetallist`.\n",
    "\n",
    "**[Bonus exercise 3]** Make the code not only print \"they love me\" or \"they love me not\", but also the count number. For this, convert `maximumpetallist` to a dictionary.\n",
    "\n",
    "The output would look something like this:\n",
    "`0`\n",
    "`They love me`\n",
    "`1`\n",
    "`They love me not`\n",
    "`2`\n",
    "`They love me`\n",
    "`3`\n",
    "`They love me not`\n",
    "`Oh no!`"
   ]
  },
  {
   "cell_type": "code",
   "execution_count": 33,
   "metadata": {
    "collapsed": false,
    "pycharm": {
     "is_executing": true
    }
   },
   "outputs": [
    {
     "name": "stdout",
     "output_type": "stream",
     "text": [
      "0. They love me1. They love me not2. They love me3. They love me not4. They love me5. They love me not6. They love me7. They love me not8. They love me9. They love me not10. They love me11. They love me not12. They love me13. They love me not14. They love me15. They love me not16. They love me17. They love me not18. They love me19. They love me not, Oh no!\n"
     ]
    }
   ],
   "source": [
    "## Exercise 6: They love me, they love me not\n",
    "import random\n",
    "\n",
    "maximumpetallist = ['They love me', 'They love me not', 'They love me', 'They love me not', 'They love me', 'They love me not', 'They love me', 'They love me not', 'They love me', 'They love me not', 'They love me', 'They love me not', 'They love me', 'They love me not', 'They love me', 'They love me not', 'They love me', 'They love me not', 'They love me', 'They love me not']\n",
    "output = ''\n",
    "\n",
    "for idx,n in enumerate(maximumpetallist):\n",
    "    output += str(idx)+\". \"+n \n",
    "if (maximumpetallist[len(maximumpetallist)-1]) == 'They love me not':\n",
    "    output+= \", Oh no!\"\n",
    "else:\n",
    "    output+=\", Yay!\"\n",
    "\n",
    "print(output)\n"
   ]
  },
  {
   "cell_type": "markdown",
   "metadata": {
    "collapsed": false
   },
   "source": [
    "**[Bonus exercise 4]** You had a lot of fun on a date! And you think the other person did as well. But you do not know for sure and are quite nervous about it. Then, one day, the special person rings your doorbell and without saying a word, hands you a letter. Is this a love letter or a rejection? You're too nervous to read it yourself, so you decide to write a piece of code that reads the letter and responds appropriately to your dream person.\n",
    "\n",
    "Write a program that asks for sentences in a loop. The program stops accepting input when an empty line is entered. The program then provides an alphabetically sorted list of all the words in the sentences, with for each word a number that indicates how often the word occurred in the text. If the words \"like\" and \"love\" occur more than the word \"hate\", respond positively, and respond negatively if it is the other way around.\n",
    "\n",
    "If you want to go one step further: make the program case insensitive (i.e., all words should be converted to lower case). And make sure that punctuation is not included in the word count."
   ]
  },
  {
   "cell_type": "code",
   "execution_count": 40,
   "metadata": {
    "collapsed": false,
    "pycharm": {
     "is_executing": true
    }
   },
   "outputs": [
    {
     "name": "stdout",
     "output_type": "stream",
     "text": [
      "He likes you.\n",
      "['we', 'use', 'hate,', 'like', 'and', 'love', 'to', 'express', 'our', 'preferences', 'and', 'tastes', 'in', 'a', 'positive', 'or', 'negative', 'way:', 'like:', 'a', 'favourable', 'feeling,', 'desire,', 'or', 'preference;', 'love:', 'an', 'intense', 'emotion', 'of', 'affection', 'towards', 'a', 'person', 'or', 'thing;', 'hate:', 'to', 'dislike', '(someone', 'or', 'something)', 'intensely.', 'after', 'the', 'verbs', 'we', 'can', 'use:', 'gerund:', 'to', 'emphasize', 'the', 'action;', 'infinitive:', 'to', 'give', 'more', 'emphasis', 'to', 'the', 'results', 'of', 'the', 'action.'] 65 0\n"
     ]
    }
   ],
   "source": [
    "## Bonus exercise 4: Love letter(?)\n",
    "\n",
    "words = input(\"Enter a sentence: \").lower().split()\n",
    "like=0\n",
    "hate=0\n",
    "\n",
    "for word in words:\n",
    "    if word == \"like\" or \"love\":\n",
    "        like += 1\n",
    "    elif word == \"hate\":\n",
    "        hate += 1\n",
    "\n",
    "\n",
    "if like == hate:\n",
    "    print(\"He feel neutral to you.\")\n",
    "elif like > hate:\n",
    "    print(\"He likes you.\")\n",
    "else:\n",
    "    print(\"He hates you.\")\n",
    "\n",
    "print(words, like, hate)\n",
    "\n"
   ]
  },
  {
   "cell_type": "markdown",
   "metadata": {
    "collapsed": false
   },
   "source": [
    "That is all! If you run into any issues, do not forget to ask about this on the Discussion board, or during the Practical session!\n",
    "\n",
    "## Skills & Further Resources\n",
    "\n",
    "This worksheet was about important functionalities of programming in Python.\n",
    "\n",
    "After working through it, you should be able to:\n",
    "\n",
    "1. Import libraries from Python\n",
    "2. Look up what a function does\n",
    "3. Write, modify, and retrieve information from lists\n",
    "4. Write, modify, and retrieve information from dictionaries\n",
    "5. Iterate through lists and dictionaries using `for` or `while` loops\n",
    "6. Combine `for`/`while` loops with `if`/`elif`/`else` statements\n",
    "\n",
    "If you want a bit more information on some of these topics, besides the chapters in Automate the Boring Stuff, I recommend:\n",
    "\n",
    "- Introduction to Python on https://datacamp.com ; more specifically, Chapter 2: Python Lists\n",
    "- Intermediate Python on https://datacamp.com ; more specifically, Chapter 2: Dictionaries & Pandas (only Dictionaries, Part 1 & 2)\n",
    "- Intermediate Python on https://datacamp.com ; more specifically, Chapter 4: Loops (only while loop, for loop, and Loop Data Structures, Part 1)\n",
    "\n",
    "## Overview of New Information\n",
    "\n",
    "| Python Code                |                                         does what                                         |\n",
    "|----------------------------|:-----------------------------------------------------------------------------------------:|\n",
    "| `x()`                      |                                    Basic function `x`                                     |\n",
    "| `import x`                 |                                     Import a library                                      |\n",
    "| `x?`                       |                    Look up the purpose and functionality of a function                    |\n",
    "| `[x, y, z]`                |                    Formatting of a list with values `x`, `y`, and `z`                     |\n",
    "| `x[0]` and `x[:3]`         |                       Retrieve one or multiple items from list `x`                        |\n",
    "| `{kx: vx, ky: vy, kz: vz}` | Formatting of a dictionary with keys `kx`, `ky`, and `kz` and values `vx`, `vy`, and `vz` |\n",
    "| `x[y]` and `x.get(y)`      |                   Retrieve the value assigned to key `y` from dict `x`                    |\n",
    "| for `x` in `y`             |            Iterate over list/dict `y`, going through each item `x` one-by-one             |\n",
    "| while `x`                  |                      Keep a loop going while condition `x` is `True`                      |"
   ]
  }
 ],
 "metadata": {
  "kernelspec": {
   "display_name": "Python 3",
   "language": "python",
   "name": "python3"
  },
  "language_info": {
   "codemirror_mode": {
    "name": "ipython",
    "version": 3
   },
   "file_extension": ".py",
   "mimetype": "text/x-python",
   "name": "python",
   "nbconvert_exporter": "python",
   "pygments_lexer": "ipython3",
   "version": "3.11.1 (v3.11.1:a7a450f84a, Dec  6 2022, 15:24:06) [Clang 13.0.0 (clang-1300.0.29.30)]"
  },
  "vscode": {
   "interpreter": {
    "hash": "aee8b7b246df8f9039afb4144a1f6fd8d2ca17a180786b69acc140d282b71a49"
   }
  }
 },
 "nbformat": 4,
 "nbformat_minor": 0
}
