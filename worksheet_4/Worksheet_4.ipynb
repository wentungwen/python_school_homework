{
 "cells": [
  {
   "cell_type": "markdown",
   "metadata": {
    "collapsed": false
   },
   "source": [
    "# Worksheet 4: Texts and Movie Synopses"
   ]
  },
  {
   "cell_type": "markdown",
   "metadata": {
    "collapsed": false
   },
   "source": [
    "Remember: Google is your friend! Functions are explained in more detail (amongst others) on the Python website, and the website \"Stackoverflow.com\" probably has the answer to all your issues. So if you add \"site:stackoverflow.com\" to your Google query, you should be able to find someone who was experiencing a similar issue, and the way to solve it. Also, you can try to see if you get helpful code with ChatGPT. And you can also ask ChatGPT to try and explain a piece of code for you. This could be helpful as well.\n",
    "\n",
    "-------------------------------\n",
    "\n",
    "Well, with the end of all sports events and other events, it is time to start looking further ahead. And \"Award Season\" is coming up. That is, the time each year when all the movie awards ceremonies take place (also music awards ceremonies, but nobody takes those seriously). So this week we are going to work with movie data.\n",
    "\n",
    "-------------------------------\n",
    "\n",
    "For this week's assignment, you can find 2 text files on Canvas Modules. **Download these text files and put them in the same folder as this Worksheet**.\n",
    "\n",
    "The text files contain short synopses about the 10 movies that have been nominated for the Best Picture Oscar. During this worksheet, we will work on opening text files in Python, modifying them, and saving (string) information as a text file. We have also discussed most of this during the lecture, but we'll take an extra look at this with the code blocks. Furthermore, for the modification of the text files, we are going to be using what we have learned during the previous lectures and worksheets.\n",
    "\n",
    "First, let's just take a look at how we should open files."
   ]
  },
  {
   "cell_type": "code",
   "execution_count": 1,
   "metadata": {
    "collapsed": false,
    "pycharm": {
     "is_executing": true
    }
   },
   "outputs": [
    {
     "name": "stdout",
     "output_type": "stream",
     "text": [
      "Set in the international world of Western classical music, the film centers on Lydia Tár, widely considered one of the greatest living composer-conductors and the very first female director of a major German orchestra.\n"
     ]
    }
   ],
   "source": [
    "## Code block 1: Opening a text file\n",
    "\n",
    "# I just chose the best picture movie with the shortest title because I feel a bit lazy today\n",
    "with open('./Tar.txt', mode='r') as f:\n",
    "    synopsis = f.read()\n",
    "\n",
    "print(synopsis)\n"
   ]
  },
  {
   "cell_type": "markdown",
   "metadata": {
    "collapsed": false
   },
   "source": [
    "Alright, this works! Diacritic characters (non-A-Z characters, such as ü, ë, and ä) are always an issue when working with text files. But we will just ignore them because otherwise we will fall into a pit of despair. The `f.read()` function is the easiest way to just read a whole text as one single string. However, in some cases, our .txt files are basically a collection of multiple texts that are all represented on their own individual line. That is a common way of storing information in .txt files. For that, we could try a different function: the `f.readlines()` function."
   ]
  },
  {
   "cell_type": "code",
   "execution_count": 2,
   "metadata": {
    "collapsed": false,
    "pycharm": {
     "is_executing": true
    }
   },
   "outputs": [
    {
     "name": "stdout",
     "output_type": "stream",
     "text": [
      "[\"A young German soldier's terrifying experiences and distress on the western front during World War I\\n\", \"Jake Sully lives with his newfound family formed on the extrasolar moon Pandora. Once a familiar threat returns to finish what was previously started, Jake must work with Neytiri and the army of the Na'vi race to protect their home.\\n\", 'The life of American music icon Elvis Presley, from his childhood to becoming a rock and movie star in the 1950s while maintaining a complex relationship with his manager, Colonel Tom Parker.\\n', 'A middle-aged Chinese immigrant is swept up into an insane adventure in which she alone can save existence by exploring other universes and connecting with the lives she could have led.\\n', 'Set in the international world of Western classical music, the film centers on Lydia Tár, widely considered one of the greatest living composer-conductors and the very first female director of a major German orchestra.\\n', 'Two lifelong friends find themselves at an impasse when one abruptly ends their relationship, with alarming consequences for both of them.\\n', 'Growing up in post-World War II era Arizona, young Sammy Fabelman aspires to become a filmmaker as he reaches adolescence, but soon discovers a shattering family secret and explores how the power of films can help him see the truth.\\n', \"After thirty years, Maverick is still pushing the envelope as a top naval aviator, but must confront ghosts of his past when he leads TOP GUN's elite graduates on a mission that demands the ultimate sacrifice from those chosen to fly it.\\n\", 'A fashion model celebrity couple join an eventful cruise for the super-rich.\\n', 'Do nothing. Stay and fight. Or leave. In 2010, the women of an isolated religious community grapple with reconciling a brutal reality with their faith.']\n"
     ]
    }
   ],
   "source": [
    "## Code block 2: Opening a text file (part 2)\n",
    "\n",
    "#The All_Movies.txt file contains the synopses of all 10 best picture nominees.\n",
    "with open('./All_Movies.txt', mode='r') as f:\n",
    "    synopsis = f.readlines()\n",
    "\n",
    "print(synopsis)"
   ]
  },
  {
   "cell_type": "markdown",
   "metadata": {
    "collapsed": false
   },
   "source": [
    "This is looking close to the way that we want to split the file up. We get a list where every item in the list is one line (or: a single movie synopsis). But, if we are very critical, every element ends with `'\\n'`, we have seen in the previous lecture that this is a symbol that marks a newline. This makes sense, as we have put all these synopses on new lines. But we might want to remove it first when we are going to modify data. How do we do this?"
   ]
  },
  {
   "cell_type": "code",
   "execution_count": 4,
   "metadata": {
    "collapsed": false,
    "pycharm": {
     "is_executing": true
    }
   },
   "outputs": [
    {
     "name": "stdout",
     "output_type": "stream",
     "text": [
      "A young German soldier's terrifying experiences and distress on the western front during World War I\n",
      "Jake Sully lives with his newfound family formed on the extrasolar moon Pandora. Once a familiar threat returns to finish what was previously started, Jake must work with Neytiri and the army of the Na'vi race to protect their home.\n",
      "The life of American music icon Elvis Presley, from his childhood to becoming a rock and movie star in the 1950s while maintaining a complex relationship with his manager, Colonel Tom Parker.\n",
      "A middle-aged Chinese immigrant is swept up into an insane adventure in which she alone can save existence by exploring other universes and connecting with the lives she could have led.\n",
      "Set in the international world of Western classical music, the film centers on Lydia Tár, widely considered one of the greatest living composer-conductors and the very first female director of a major German orchestra.\n",
      "Two lifelong friends find themselves at an impasse when one abruptly ends their relationship, with alarming consequences for both of them.\n",
      "Growing up in post-World War II era Arizona, young Sammy Fabelman aspires to become a filmmaker as he reaches adolescence, but soon discovers a shattering family secret and explores how the power of films can help him see the truth.\n",
      "After thirty years, Maverick is still pushing the envelope as a top naval aviator, but must confront ghosts of his past when he leads TOP GUN's elite graduates on a mission that demands the ultimate sacrifice from those chosen to fly it.\n",
      "A fashion model celebrity couple join an eventful cruise for the super-rich.\n",
      "Do nothing. Stay and fight. Or leave. In 2010, the women of an isolated religious community grapple with reconciling a brutal reality with their faith.\n"
     ]
    }
   ],
   "source": [
    "## Code block 3: Opening a text file (part 3)\n",
    "\n",
    "#The All_Movies.txt file contains the synopses of all 10 best picture nominees.\n",
    "with open('./All_Movies.txt', mode='r') as f:\n",
    "    synopsis = f.read()\n",
    "\n",
    "print(synopsis)"
   ]
  },
  {
   "cell_type": "markdown",
   "metadata": {
    "collapsed": false
   },
   "source": [
    "Perfect, by adding `.splitlines()` to the `.read()` function, we can now capture the texts in a list the way that we want it. Every item in the list is now a synopsis, without the newline symbols distracting us. Now, let's take a look at writing a string to a .txt file."
   ]
  },
  {
   "cell_type": "code",
   "execution_count": 2,
   "metadata": {
    "collapsed": false
   },
   "outputs": [],
   "source": [
    "## Code block 4: Writing a text file\n",
    "\n",
    "oscartype = 'Best Picture nominees'\n",
    "#Write the string to a text file in the same folder as the worksheet.\n",
    "with open('./Oscar_Type.txt', mode='w') as f:\n",
    "    f.write(oscartype)\n"
   ]
  },
  {
   "cell_type": "markdown",
   "metadata": {
    "collapsed": false
   },
   "source": [
    "It is good to pay special attention to the `\"mode\"` attribute here. As mentioned in the lectures, `mode` specifies the ways in which we want to work with a file. When you want to only read a file, you use `mode='r'`. When you only want to write a file, you use `mode='w'`. Those modes are generally the most frequent ones you use. You can also use `mode='r+'` for both reading and writing, but I generally advice against using that. At least, if you are like me and sometimes make mistakes, you do not want to risk accidentally saving over a file that should have just been read."
   ]
  },
  {
   "cell_type": "markdown",
   "metadata": {
    "collapsed": false
   },
   "source": [
    "**[Exercise 1]** The `All_Movies.txt` file contains all the Best Picture nominees for this year. But let's be honest, that's not close to the actual best picture ever made: Bee Movie. Let's add the synopsis of [Bee Movie](https://www.imdb.com/title/tt0389790/) to the other synopses in `All_Movies.txt`. Now we have real quality in there. So, in steps, I want you to do the following:\n",
    "\n",
    "1. Load the synopses from the `All_Movies.txt` file.\n",
    "2. Add the Bee Movie synopsis to the synopses.\n",
    "3. Save the new synopses as `Best_Movies.txt`.\n",
    "\n",
    "Make sure that the Bee Movie synopsis is saved on a separate line (just like all the other synopses should be on separate lines).\n",
    "\n",
    "Hint 1: Check out the [List of File Methods](https://www.w3schools.com/python/python_ref_file.asp) to see if there is a good write function for your purpose.\n",
    "Hint 2: If you don't want to look up all the information on the Bee Movie, first of all you should feel ashamed. But also, the synopsis is: `\"Barry B. Benson, a bee just graduated from college, is disillusioned at his lone career choice: making honey. On a special trip outside the hive, Barry's life is saved by Vanessa, a florist in New York City. As their relationship blossoms, he discovers humans actually eat honey and subsequently decides to sue them.\"`"
   ]
  },
  {
   "cell_type": "code",
   "execution_count": 71,
   "metadata": {
    "collapsed": false
   },
   "outputs": [],
   "source": [
    "## Exercise 1: Adding Bee Movie to the best picture nominees.\n",
    "content = \"Barry B. Benson, a bee just graduated from college, is disillusioned at his lone career choice: making honey. On a special trip outside the hive, Barry's life is saved by Vanessa, a florist in New York City. As their relationship blossoms, he discovers humans actually eat honey and subsequently decides to sue them.\"\n",
    "with open(\"All_Movies.txt\", mode= \"a\") as f:\n",
    "    f.write(f\"\\n{content}\")\n",
    "\n",
    "with open(\"Bee_Movies.txt\", \"w\") as f:\n",
    "    f.write(content)\n"
   ]
  },
  {
   "attachments": {},
   "cell_type": "markdown",
   "metadata": {
    "collapsed": false
   },
   "source": [
    "[Exercise 2] Let's try to capture the longest word in the whole `All_Movies.txt` file. Write a script that identifies the longest word(s) in a file. Your program should print the length of the longest word, along with all of the words of that length that are in the `All_Movies.txt` file. Treat any group of non-white space characters as a word, even if it includes digits or punctuation marks. The output should look like:\n",
    "\n",
    "`The longest word(s) is/are [X] characters long. The words of this size is/are: [Y], [Z], [V], [W]`\n",
    "\n",
    "Hint: check out the `.join()` and `len()` functions for this exercise.\n",
    "\n",
    "[Optional] Add more statistics such as\n",
    "- the length of the synopsis\n",
    "- the number of unique words in the whole file\n",
    "- shortest word\n",
    "- average word length\n",
    "- average sentence length\n",
    "- top 10 most frequent words (with their frequency)\n",
    "\n",
    "[Very optional] Can you put the collected data into a visual graph? You need to install a library yourself to do this (called Matplotlib).\n",
    "Take a look at these websites for instance: https://datatofish.com/line-chart-python-matplotlib/ and https://www.tutorialspoint.com/matplotlib/matplotlib_bar_plot.htm."
   ]
  },
  {
   "cell_type": "code",
   "execution_count": 198,
   "metadata": {
    "collapsed": false,
    "pycharm": {
     "is_executing": true
    }
   },
   "outputs": [
    {
     "name": "stdout",
     "output_type": "stream",
     "text": [
      "13 ['international', 'relationship,', 'disillusioned']\n"
     ]
    }
   ],
   "source": [
    "## Exercise 2: Longest word\n",
    "import numpy as np\n",
    "import matplotlib.pyplot as plt\n",
    "\n",
    "# first solution\n",
    "with open(\"All_Movies.txt\") as file:\n",
    "    movie_list = file.readlines()\n",
    "    longest_length = 0\n",
    "    longest_words = []\n",
    "\n",
    "    for movie in movie_list:\n",
    "        movie_words = movie.strip().split(\" \")\n",
    "        for word in movie_words:\n",
    "            if len(word) == longest_length:\n",
    "                longest_words.append(word)\n",
    "            elif len(word) > longest_length:\n",
    "                longest_length = len(word)\n",
    "                longest_words = []\n",
    "                longest_words.append(word)\n",
    "    print(longest_length, longest_words)\n",
    "\n",
    "\n",
    "# second solution (list comprehension) \n",
    "with open(\"All_Movies.txt\") as file:\n",
    "    movie_list = file.read().splitlines()\n",
    "\n",
    "longest_length = max(len(word) for movie in movie_list for word in movie.split())\n",
    "longest_words = [word for movie in movie_list for word in movie.split() if len(word) == longest_length]\n",
    "\n"
   ]
  },
  {
   "cell_type": "code",
   "execution_count": 79,
   "metadata": {},
   "outputs": [
    {
     "name": "stdout",
     "output_type": "stream",
     "text": [
      "1740 Barry B. Benson, a bee just graduated from college, is disillusioned at his lone career choice: making honey. On a special trip outside the hive, Barry's life is saved by Vanessa, a florist in New York City. As their relationship blossoms, he discovers humans actually eat honey and subsequently decides to sue them.\n"
     ]
    }
   ],
   "source": [
    "# - the length of the synopsis => longest total chrarcters\n",
    "with open(\"All_Movies.txt\") as file:\n",
    "    movie_list = file.read().splitlines()\n",
    "    \n",
    "# 1\n",
    "mv_list = {}\n",
    "longest_len = 0\n",
    "for movie in movie_list:\n",
    "    for word in movie.split():\n",
    "        longest_len += len(word)\n",
    "    mv_list[movie] = longest_len\n",
    "max_value = max(mv_list, key=mv_list.get)\n",
    "print(mv_list.get(max_value), max_value)\n",
    "\n",
    "# 2\n",
    "mv_list = {movie: sum(len(word) for word in movie.split()) for movie in movie_list}"
   ]
  },
  {
   "cell_type": "code",
   "execution_count": 85,
   "metadata": {},
   "outputs": [
    {
     "name": "stdout",
     "output_type": "stream",
     "text": [
      "[\"'\", '.', ',', \"'\", '.', ',', ',', '.', '-', '.', ',', ',', '.', ',', '.', '-', ',', ',', '.', ',', ',', \"'\", '.', '-', '.', '.', '.', '.', ',', '.', '.', ',', ',', ':', '.', ',', \"'\", ',', '.', ',', '.']\n"
     ]
    }
   ],
   "source": [
    "# - the number of unique words in the whole file  \n",
    "mv_list=len([l for l in word for word in movie.split() for movie in movie_list if not l.isalnum()])\n",
    "print(mv_list)"
   ]
  },
  {
   "cell_type": "code",
   "execution_count": 115,
   "metadata": {},
   "outputs": [
    {
     "name": "stdout",
     "output_type": "stream",
     "text": [
      "1 {'a'}\n"
     ]
    }
   ],
   "source": [
    "# - shortest word\n",
    "shortest_len = min([len(word) for word in movie.split() for movie in movie_list])\n",
    "shortest_words=[word for word in movie.split() for movie in movie_list if len(word) == shortest_len]\n",
    "\n",
    "\n",
    "print(shortest_len, set(shortest_words))"
   ]
  },
  {
   "cell_type": "code",
   "execution_count": 103,
   "metadata": {},
   "outputs": [
    {
     "name": "stdout",
     "output_type": "stream",
     "text": [
      "4.98\n"
     ]
    }
   ],
   "source": [
    "# - average word length\n",
    "from statistics import mean\n",
    "\n",
    "total_len = [len(word) for word in movie.split() for movie in movie_list]\n",
    "print(round(mean(total_len), 2))"
   ]
  },
  {
   "cell_type": "code",
   "execution_count": 104,
   "metadata": {},
   "outputs": [
    {
     "name": "stdout",
     "output_type": "stream",
     "text": [
      "189\n"
     ]
    }
   ],
   "source": [
    "# - average sentence length\n",
    "total_len = [len(movie) for movie in movie_list]\n",
    "print(round(mean(total_len)))"
   ]
  },
  {
   "cell_type": "code",
   "execution_count": 201,
   "metadata": {},
   "outputs": [
    {
     "name": "stdout",
     "output_type": "stream",
     "text": [
      "[('is', 4), ('an', 4), ('his', 5), ('in', 5), ('to', 6), ('with', 7), ('and', 8), ('of', 9), ('a', 12), ('the', 17)]\n"
     ]
    }
   ],
   "source": [
    "# - top 10 most frequent words (with their frequency)\n",
    "all_words = [word for movie in movie_list for word in movie.split()]\n",
    "total_count = {c: all_words.count(c) for c in all_words}\n",
    "top_10 = sorted(total_count.items(), key=lambda x:x[1])\n",
    "print(top_10[-10:])"
   ]
  },
  {
   "cell_type": "code",
   "execution_count": 200,
   "metadata": {},
   "outputs": [
    {
     "data": {
      "image/png": "[encoded data removed]",
      "text/plain": [
       "<Figure size 640x480 with 1 Axes>"
      ]
     },
     "metadata": {},
     "output_type": "display_data"
    }
   ],
   "source": [
    "# visual graph\n",
    "\n",
    "N = 5\n",
    "menMeans = (20, 35, 30, 35, 27)\n",
    "womenMeans = (25, 32, 34, 20, 25)\n",
    "ind = np.arange(N) # the x locations for the groups\n",
    "width = 0.35\n",
    "fig = plt.figure()\n",
    "ax = fig.add_axes([0,0,1,1])\n",
    "ax.bar(ind, menMeans, width, color='r')\n",
    "ax.bar(ind, womenMeans, width,bottom=menMeans, color='b')\n",
    "ax.set_ylabel('Scores')\n",
    "ax.set_title('Scores by group and gender')\n",
    "ax.set_xticks(ind, ('G1', 'G2', 'G3', 'G4', 'G5'))\n",
    "ax.set_yticks(np.arange(0, 81, 10))\n",
    "ax.legend(labels=['Men', 'Women'])\n",
    "plt.show()\n"
   ]
  },
  {
   "cell_type": "markdown",
   "metadata": {
    "collapsed": false
   },
   "source": [
    "That is all! If you run into any issues, do not forget to ask about this on the Discussion board, or during the Practical session!\n",
    "\n",
    "## Saving & Submitting\n",
    "\n",
    "Jupyter Notebook files save your work automatically. So you can hand in the file that you are currently looking at. If you don't want to take any risks, you can also use \"Save As\" to save a copy of the notebook. In any case, submit the Worksheet **via Canvas, Assignments**. Submission date: **8 March (23:59)**.\n",
    "\n",
    "## Skills & Further Resources\n",
    "\n",
    "This worksheet was about opening, modifying, and saving .txt files using Python.\n",
    "\n",
    "After working through it, you should be able to:\n",
    "\n",
    "1. Understand how to open files as strings or list of strings\n",
    "2. Save strings or list of strings\n",
    "\n",
    "If you want a bit more information on some of these topics, besides the chapters in Automate the Boring Stuff, I recommend:\n",
    "\n",
    "- Introduction to Importing Data in Python on https://datacamp.com\n",
    "\n",
    "## Overview of New Information\n",
    "\n",
    "| Python Code                                                              |                                                                    does what                                                                     |\n",
    "|--------------------------------------------------------------------------|:------------------------------------------------------------------------------------------------------------------------------------------------:|\n",
    "| `x.read()`,  `x.readlines()`, `x.read.splitfile()`                       |                                 Read `x` as a full string or as a list of strings (where each line is a string)                                  |\n",
    "| `x.write()`, `x.writelines()`                                            |                                                 Write a string to x, or a list of strings to x.                                                  |"
   ]
  }
 ],
 "metadata": {
  "kernelspec": {
   "display_name": "base",
   "language": "python",
   "name": "python3"
  },
  "language_info": {
   "codemirror_mode": {
    "name": "ipython",
    "version": 3
   },
   "file_extension": ".py",
   "mimetype": "text/x-python",
   "name": "python",
   "nbconvert_exporter": "python",
   "pygments_lexer": "ipython3",
   "version": "3.9.13"
  },
  "vscode": {
   "interpreter": {
    "hash": "35cee20db335b827e2ae064625f84a609e5aba30ab196e5a7d29a850ee71e3d2"
   }
  }
 },
 "nbformat": 4,
 "nbformat_minor": 0
}
