{
 "cells": [
  {
   "cell_type": "markdown",
   "metadata": {
    "collapsed": false
   },
   "source": [
    "# Worksheet 5: Baby Names"
   ]
  },
  {
   "cell_type": "markdown",
   "metadata": {
    "collapsed": false
   },
   "source": [
    "Remember: Google is your friend! Functions are explained in more detail (amongst others) on the Python website, and the\n",
    "website \"Stackoverflow.com\" probably has the answer to all of life's (programming related) issues. So if you add \"site:stackoverflow.com\" to your\n",
    "Google query, you should be able to find someone who was experiencing a similar issue, and the way to solve it.\n",
    "\n",
    "-------------------------------\n",
    "\n",
    "This week we are going to work with baby name data. Nothing topical, I'm just constantly surprised how much effort people put into the task of picking a baby name: trying to find a name with the right meaning, the inclusion of a certain syllable, and current popularity of that baby name.\n",
    "\n",
    "-------------------------------\n",
    "\n",
    "## Installing OpenPyXL\n",
    "\n",
    "First, we are going to install the OpenPyXL library. An external library. We have been working with internal libraries in the previous weeks, that allow us to use extra functions. External libraries allow us to use even more functions. Whatever you want to do, you can probably find an external library somewhere that facilitates this with Python. That's partly why Python is such a powerful and useful programming language: there is a big community of people using it and making all these external libraries so that it can be used for all kinds of purposes. As discussed in the video lecture, you can install external libraries using Anaconda Prompt, and then using \"pip install [library_name]\". Alternatively, and what we are going to do now: you can just run the bit of code below, and if all goes well, it should just install the necessary library for these exercises."
   ]
  },
  {
   "cell_type": "code",
   "execution_count": null,
   "metadata": {
    "collapsed": false
   },
   "outputs": [],
   "source": [
    "## Code block 1: Install a pip package in the current Jupyter kernel\n",
    "import sys\n",
    "!{sys.executable} -m pip install openpyxl\n",
    "\n",
    "import openpyxl\n"
   ]
  },
  {
   "cell_type": "markdown",
   "metadata": {
    "collapsed": false
   },
   "source": [
    "For this week's assignment, you can find three Excel files on Canvas (`Babynames_VerySmall.xlsx`, `Babynames_Small.xlsx` and `Babynames_Large.xlsx`). These Excel files contain American baby names from 2000-2020 (originally from [this website](https://www.ssa.gov/oact/babynames/limits.html)). If you scroll through the Excel file, you will see that the names are sorted alphabetically for each year, so the first rows are the alphabetically ordered names from 2000, then the names from 2001, 2002, etc. `Babynames_Small.xlsx` is just a smaller version from the large dataset where I have removed all names that occur less than 100 times. And for `Babynames_VerySmall.xlsx` we only have names occurring more than 10,000 times. So, just to be clear: all datasets are usable for the exercises, but especially when testing things out, **I recommend using `Babynames_VerySmall.xlsx`**."
   ]
  },
  {
   "cell_type": "markdown",
   "metadata": {
    "collapsed": false
   },
   "source": [
    "## Opening, modifying, and saving Excel (.xlsx) files\n",
    "\n",
    "Let's first take a look at how to open Excel files. We saw with text files that when you opened the text file, you could read the full file with the `.read()` function. With Excel this is a bit more complicated. Let's try to open an Excel file first:"
   ]
  },
  {
   "cell_type": "code",
   "execution_count": null,
   "metadata": {
    "collapsed": false,
    "pycharm": {
     "is_executing": true
    }
   },
   "outputs": [],
   "source": [
    "## Code block 2: Load Excel file\n",
    "import os\n",
    "import openpyxl\n",
    "\n",
    "# Load an existing workbook (the Babynames file)\n",
    "wb = openpyxl.load_workbook('./Babynames_VerySmall.xlsx', read_only=True)\n",
    "# And go to the active worksheet in Excel (this is usually the first worksheet in the file)\n",
    "ws = wb.active\n",
    "\n",
    "print(ws)"
   ]
  },
  {
   "cell_type": "markdown",
   "metadata": {
    "collapsed": false
   },
   "source": [
    "We managed to load the Excel file, activated the worksheet, but unfortunately, that does not automatically give us the actual content of the Excel file. Also, note how I used `read_only=True` as a parameter in the `.load_workbook` function: this parameter makes it so that we can only read content from the Excel file. It is somewhat similar to the `mode=\"r\"` parameter we saw last week with the text files.\n",
    "\n",
    "The Excel file that we load contains a lot of information, such as the rows and columns information (where an Excel cell is located), and the values themselves. Generally, when we are working with Excel files, we just care about the values that can be found. So let's get these! For this, we should check the [tutorial of OpenPyXL](https://openpyxl.readthedocs.io/en/stable/tutorial.html) (the part on *Values only*) where they tell us how to do this."
   ]
  },
  {
   "cell_type": "code",
   "execution_count": null,
   "metadata": {
    "collapsed": false,
    "pycharm": {
     "is_executing": true
    }
   },
   "outputs": [],
   "source": [
    "## Code block 3: Load Excel file (part 2\n",
    "\n",
    "for row in ws.values:\n",
    "   for value in row:\n",
    "     print(value)"
   ]
  },
  {
   "cell_type": "markdown",
   "metadata": {
    "collapsed": false
   },
   "source": [
    "By copy-pasting the bit of code we found for *Values only*, we are able to obtain all values now. But now it just prints every cell, regardless of the position. In the video lecture, we discussed working with *Records*. Generally, the standard for Excel is that each row is a *record* and columns describe the *attributes* of a record. Therefore, it would be nice to have a bit of structure that keeps the information about records and attributes intact. How are we going to do this?"
   ]
  },
  {
   "cell_type": "code",
   "execution_count": null,
   "metadata": {
    "collapsed": false,
    "pycharm": {
     "is_executing": true
    }
   },
   "outputs": [],
   "source": [
    "## Code block 4: Load Excel file (part 3)\n",
    "for row in ws.values:\n",
    "    print(row)"
   ]
  },
  {
   "cell_type": "markdown",
   "metadata": {
    "collapsed": false
   },
   "source": [
    "We removed a bit at the end. Instead of\n",
    "`for row in ws.values:`\n",
    "&nbsp;&nbsp;&nbsp;&nbsp;`for value in row:`\n",
    "&nbsp;&nbsp;&nbsp;&nbsp;&nbsp;&nbsp;&nbsp;&nbsp;`print(value)`\n",
    "\n",
    "We now just have\n",
    "`for row in ws.values:`\n",
    "&nbsp;&nbsp;&nbsp;&nbsp;`print(row)`\n",
    "\n",
    "This not only makes the code a bit less complicated (because we are avoiding the double `for` loop), but we are now printing each row individually. By default, `OpenPyXL` prints rows in a `tuple` data structure, identified by their parentheses `(` `)`. We have not really discussed `tuples` in the lecture on data types. What you should know about it is that they are essentially immutable lists that are a bit more memory-efficient compared to lists. In most cases you would not really notice that tuples load a tiny bit quicker than lists. Considering that this speed boost is at the cost of modifiability, I generally prefer lists over tuples. Luckily, we can easily convert a tuple to a list with the `list()` function.\n",
    "\n",
    "Finally, we also would like to make sure that all the rows that we load are stored into a variable in a structured way. Let's take a look how we would do this."
   ]
  },
  {
   "cell_type": "code",
   "execution_count": null,
   "metadata": {
    "collapsed": false,
    "pycharm": {
     "is_executing": true
    }
   },
   "outputs": [],
   "source": [
    "## Code block 5: Load Excel file (part 4)\n",
    "\n",
    "allrows = [list(row) for row in ws.values]\n",
    "\n",
    "print(allrows)"
   ]
  },
  {
   "cell_type": "markdown",
   "metadata": {
    "collapsed": false
   },
   "source": [
    "Okay, so this looks close to the ideal structure that we want to work with. We have one big list, representing the full Excel file, with a lot of lists inside that list. Each list inside that full Excel file list represents one record from the Excel file. These lists representing the records contain multiple items, where each item represents one attribute from the record.\n",
    "\n",
    "So, basically, we can represent each Excel file as a list-of-lists, where the main list is the full Excel file, and the lists inside are the rows. That way, we can also locate all the information from one column."
   ]
  },
  {
   "cell_type": "code",
   "execution_count": null,
   "metadata": {
    "collapsed": false,
    "pycharm": {
     "is_executing": true
    }
   },
   "outputs": [],
   "source": [
    "## Code block 6: Getting the values of one column\n",
    "allrows = [row for row in ws.values]\n",
    "secondcolumn = [row[1] for row in allrows]\n",
    "\n",
    "print(secondcolumn)"
   ]
  },
  {
   "cell_type": "markdown",
   "metadata": {
    "collapsed": false
   },
   "source": [
    "Now, we would also like to see how we can save a new Excel file. How do we do this? The tutorial on the OpenPyXL website is unfortunately a bit secretive about all the details you need to know. Let's take a look at the code that they provide on the website."
   ]
  },
  {
   "cell_type": "code",
   "execution_count": null,
   "metadata": {
    "collapsed": false
   },
   "outputs": [],
   "source": [
    "## Code block 6: Saving Python data to an Excel file\n",
    "wb = openpyxl.Workbook()\n",
    "wb.save('./output/Test.xlsx')"
   ]
  },
  {
   "cell_type": "markdown",
   "metadata": {
    "collapsed": false
   },
   "source": [
    "A new Excel file has been created in the folder that this Worksheet is also in: `Babynames_Head.xlsx`. If you open it, you will see that it is completely empty. In most cases, you don't want to write a Python script that just creates an empty Excel file. We want some information in there. Luckily, the list-of-lists structure that we have used to read a Python file, can also be used to write such a file."
   ]
  },
  {
   "cell_type": "code",
   "execution_count": null,
   "metadata": {
    "collapsed": false,
    "pycharm": {
     "is_executing": true
    }
   },
   "outputs": [],
   "source": [
    "## Code block 7: Saving Python data to an Excel file (part 2)\n",
    "excellist = [['Goku', 'Best name ever'], ['Vegeta', 'Also a pretty good name'], ['Gohan', 'Sure, that name is also fine']]\n",
    "\n",
    "wb = openpyxl.Workbook()\n",
    "ws = [row for row in excellist] \n",
    "\n",
    "wb.save('./output/Babynames_New.xlsx')"
   ]
  },
  {
   "cell_type": "markdown",
   "metadata": {
    "collapsed": false
   },
   "source": [
    "A new Excel file has been created in the folder that this Worksheet is also in: `Babynames_New.xlsx`. If you open it, you will see that the lists we specified at the beginning of Code block 7 have been saved in Excel. By loading a worksheet (`ws = wb.active`) and appending lists to that variable (`ws.append(row)`), we now save information inside the Excel file when we use the `wb.save()` function."
   ]
  },
  {
   "cell_type": "markdown",
   "metadata": {
    "collapsed": false
   },
   "source": [
    "## Exercises\n",
    "\n",
    "**[Exercise 1]** Write a program that first takes an input, and then searches for names in the database of babynames that contain this input. It should ignore uppercase and should not give you any duplicate names. So if your input is 'chris', it should give you the following names:\n",
    "- chris\n",
    "- christa\n",
    "- christen\n",
    "- christian\n",
    "- christiana\n",
    "- etc.\n",
    "\n",
    "Save all the names you found in an Excel file, with a name in each row of the dataset. See Worksheet_5_Exercise_1.png for what this should look like when you use 'chris' as input.\n",
    "\n",
    "**[Bonus Exercise 1]** Add 20 cells after each name, with each cell representing the frequency of that name for one year (sorted chronologically)"
   ]
  },
  {
   "cell_type": "code",
   "execution_count": null,
   "metadata": {
    "collapsed": false
   },
   "outputs": [],
   "source": [
    "## Exercise 1: Finding All Names Containing Input\n",
    "\n",
    "wb = openpyxl.load_workbook(\"./Babynames_VerySmall.xlsx\")\n",
    "ws = wb.active\n",
    "names = [row[0].lower() for row in ws.values]\n",
    "chris_names = [name for name in names if \"chris\" in name]\n",
    "\n",
    "print(chris_names)"
   ]
  },
  {
   "cell_type": "code",
   "execution_count": null,
   "metadata": {},
   "outputs": [],
   "source": [
    "# bonus exercise 1\n",
    "# I can't understand the question, sorry:("
   ]
  },
  {
   "cell_type": "markdown",
   "metadata": {
    "collapsed": false
   },
   "source": [
    "**[Exercise 2]** In the dataset, male and female names are in the same Excel worksheet. Can you create a new and improved Excel file, where there is\n",
    "- One Excel file with female names only.\n",
    "- One Excel file with male names only.\n",
    "\n",
    "**[Bonus exercise 2]** Rather than creating separate Excel files with female and male names, create a single Excel file where one work**sheet** contains all female names, and one work**sheet** contains all male names.\n",
    "\n",
    "**[Bonus exercise 3]** You can preserve the ordering of the original Excel file (the baby names in alphabetical order), but you can also choose to order the names by their frequency for every year. In other words:\n",
    "- The names from most to least frequent for 2000\n",
    "- The names from most to least frequent for 2001\n",
    "- The names from most to least frequent for 2002\n",
    "- Etc."
   ]
  },
  {
   "cell_type": "code",
   "execution_count": 219,
   "metadata": {
    "collapsed": false
   },
   "outputs": [],
   "source": [
    "## Exercise 2: Male and Female Names\n",
    "\n",
    "wb = openpyxl.load_workbook(\"./data/Babynames_VerySmall.xlsx\")\n",
    "ws = wb.active\n",
    "male_names = [row[0] for row in ws.values if row[1] == 'M']\n",
    "female_names = [row[0] for row in ws.values if row[1] == 'F']\n",
    "\n",
    "def write_names_in_book(gender, names):\n",
    "    book = openpyxl.Workbook()\n",
    "    sheet = book.active\n",
    "    sheet.title = gender\n",
    "    for i, name in enumerate(names):\n",
    "        sheet.cell(row=i+1, column=1, value=name)\n",
    "    book.save(f\"./output/exercise_2_{gender}.xlsx\")\n",
    "    book.remove(book.worksheets[0])\n",
    "\n",
    "\n",
    "write_names_in_book(\"male\", male_names)\n",
    "write_names_in_book(\"female\", female_names)\n",
    "\n"
   ]
  },
  {
   "cell_type": "code",
   "execution_count": 220,
   "metadata": {},
   "outputs": [],
   "source": [
    "## bonus exercise 2\n",
    "\n",
    "book = openpyxl.Workbook()\n",
    "\n",
    "def write_names_in_sheet(gender, names):\n",
    "    sheet = book.create_sheet()\n",
    "    sheet.title=gender\n",
    "    for i, name in enumerate(names):\n",
    "        sheet.cell(row=i+1, column=1, value=name)\n",
    "    \n",
    "\n",
    "write_names_in_sheet(\"male\", male_names)\n",
    "write_names_in_sheet(\"female\", female_names)\n",
    "\n",
    "book.remove(book.worksheets[0])\n",
    "book.save(\"./output/bonus_exercise_2.xlsx\")\n",
    "\n"
   ]
  },
  {
   "cell_type": "code",
   "execution_count": 221,
   "metadata": {},
   "outputs": [],
   "source": [
    "## bonus exercise 3\n",
    "\n",
    "book = openpyxl.load_workbook(\"./data/Babynames_VerySmall.xlsx\")\n",
    "sheet = book.active\n",
    "\n",
    "# create dictionary by year\n",
    "years = [n[2] for n in sheet.values][1:]\n",
    "max_y = int(max(years))+1\n",
    "min_y = int(min(years))\n",
    "names_yearly = {}\n",
    "\n",
    "def create_names_yearly(year):\n",
    "    names = [(row[0], row[1], row[3]) for row in sheet.values if row[2] == str(year)]\n",
    "    names.sort(key=lambda x:x[2], reverse=True)\n",
    "    names_yearly[year] = names\n",
    "    \n",
    "for year in range(min_y, max_y):\n",
    "    create_names_yearly(year)\n",
    "\n",
    "\n",
    "# assign the names to differenct sheets by year\n",
    "book = openpyxl.Workbook()\n",
    "\n",
    "def write_names_in_sheet_yearly(year):\n",
    "    if year in names_yearly:\n",
    "        sheet = book.create_sheet(f\"name_{year}_frequency\")\n",
    "        for idx, data in enumerate(names_yearly[year]):\n",
    "            for j in range(len(data)):\n",
    "                sheet.cell(column=j+1, row=idx+1, value=data[j])\n",
    "\n",
    "for year in range(min_y, max_y):\n",
    "    write_names_in_sheet_yearly(year)\n",
    "\n",
    "book.remove(book.worksheets[0])\n",
    "book.save(\"./output/bonus_exercise_3.xlsx\")\n",
    "\n"
   ]
  },
  {
   "cell_type": "markdown",
   "metadata": {
    "collapsed": false
   },
   "source": [
    "**[Exercise 3]** Print the most popular name in the Excel database. Not the most popular name per year, but the most frequent name given in this whole 20-year period, and the number of people who have been given this name.\n",
    "\n",
    "Hint: the best way to do this, is to create a dictionary where names are added as a key, and the total frequencies of this name are the values.\n",
    "\n",
    "**[Bonus exercise 4]** Print the Top 10 most frequent names rather than the single most frequent name. Or print the Top 10 Male names and Top 10 Female names."
   ]
  },
  {
   "cell_type": "code",
   "execution_count": 222,
   "metadata": {},
   "outputs": [
    {
     "name": "stdout",
     "output_type": "stream",
     "text": [
      "('Jacob', 436869)\n"
     ]
    }
   ],
   "source": [
    "## Exercise 3: Top 10 Most Frequent Names\n",
    "# solution 1\n",
    "\n",
    "book = openpyxl.load_workbook(\"./data/Babynames_VerySmall.xlsx\")\n",
    "sheet = book.active\n",
    "names = [row for row in sheet.values][1:]\n",
    "name_with_freq = {}\n",
    "for name, sex, year, freq in names:\n",
    "    if name in name_with_freq:\n",
    "        name_with_freq[name] += int(freq)\n",
    "    else:\n",
    "        name_with_freq[name] = int(freq)\n",
    "\n",
    "sorted_dict = sorted(name_with_freq.items(), key=lambda x:x[1], reverse=True)\n",
    "print(sorted_dict[0])\n",
    "\n"
   ]
  },
  {
   "cell_type": "code",
   "execution_count": 227,
   "metadata": {
    "collapsed": false
   },
   "outputs": [
    {
     "name": "stdout",
     "output_type": "stream",
     "text": [
      "The most popular name is: ('Jacob', ['M', 436869])\n",
      "\n",
      "The top 10 names are:\n",
      "[('Jacob', ['M', 436869]), ('Michael', ['M', 395434]), ('Emma', ['F', 391641]), ('William', ['M', 366566]), ('Olivia', ['F', 357844]), ('Ethan', ['M', 350703]), ('Noah', ['M', 344691]), ('Daniel', ['M', 337436]), ('Alexander', ['M', 330838])]\n",
      "\n",
      "The top 10 female names are:\n",
      " [('Emma', ['F', 391641]), ('Olivia', ['F', 357844]), ('Isabella', ['F', 316789]), ('Emily', ['F', 314480]), ('Sophia', ['F', 281023]), ('Madison', ['F', 261178]), ('Abigail', ['F', 250420]), ('Ava', ['F', 250202]), ('Mia', ['F', 195427])]\n",
      "\n",
      "The top 10 male names are:\n",
      " [('Jacob', ['M', 436869]), ('Michael', ['M', 395434]), ('William', ['M', 366566]), ('Ethan', ['M', 350703]), ('Noah', ['M', 344691]), ('Daniel', ['M', 337436]), ('Alexander', ['M', 330838]), ('Matthew', ['M', 327208]), ('James', ['M', 314769])]\n"
     ]
    }
   ],
   "source": [
    "## Exercise 3: Top 10 Most Frequent Names\n",
    "# solution 2\n",
    "\n",
    "name_with_freq = {}\n",
    " \n",
    "for i, (name, sex, year, freq) in  enumerate(names):\n",
    "    if name in name_with_freq:\n",
    "        name_with_freq[name][-1] += int(freq)\n",
    "    else:\n",
    "        name_with_freq[name]=[sex, int(freq)]\n",
    "\n",
    "\n",
    "sorted_dict = sorted(name_with_freq.items(), key=lambda x: x[1][1], reverse=True)\n",
    "print(f\"The most popular name is: {sorted_dict[0]}\")\n",
    "print(\"\")\n",
    "\n",
    "\n",
    "## Bonus exercise 4-1\n",
    "print(f\"The top 10 names are:\\n{sorted_dict[0:9]}\")\n",
    "print(\"\")\n",
    "\n",
    "## Bonus exercise 4-2\n",
    "pop_female = [data for data in sorted_dict if data[1][0] == \"F\"]\n",
    "pop_male = [data for data in sorted_dict if data[1][0] == \"M\"]\n",
    "\n",
    "print(f\"The top 10 female names are:\\n {pop_female[0:9]}\")\n",
    "print(\"\")\n",
    "print(f\"The top 10 male names are:\\n {pop_male[0:9]}\")\n",
    "\n"
   ]
  },
  {
   "cell_type": "markdown",
   "metadata": {
    "collapsed": false
   },
   "source": [
    "That is all! If you run into any issues, do not forget to ask about this on the Discussion board, or during the Practical session!\n",
    "\n",
    "## Saving & Submitting\n",
    "\n",
    "Jupyter Notebook files save your work automatically. So you can hand in the file that you are currently looking at. If you don't want to take any risks, you can also use \"Save As\" to save a copy of the notebook. In any case, submit the Worksheet **via Canvas, Assignments**. Submission date: **15 March (23:59)**.\n",
    "\n",
    "## Skills & Further Resources\n",
    "\n",
    "This worksheet was about opening, modifying, and saving Excel files using Python.\n",
    "\n",
    "After working through it, you should be able to:\n",
    "\n",
    "1. Understand how to use `OpenPyXL` to open Excel files and format the content of the Excel files in such a way that it is usable by Python.\n",
    "2. Read single rows and single columns from the Excel file\n",
    "3. Save a Python list-of-lists as a nicely formatted Excel file\n",
    "\n",
    "If you want a bit more information on some of these topics, besides the chapters in Automate the Boring Stuff, I recommend:\n",
    "\n",
    "- A Guide to Excel Spreadsheets in Python With openpyxl on [https://realpython.com/openpyxl-excel-spreadsheets-python/](https://realpython.com/openpyxl-excel-spreadsheets-python/)\n",
    "- Working with CSV files from Datacamp: [https://campus.datacamp.com/courses/data-types-for-data-science-in-python/dictionaries-the-root-of-python?ex=11](https://campus.datacamp.com/courses/data-types-for-data-science-in-python/dictionaries-the-root-of-python?ex=11) (CSV files are a different way of storing table-data in a more efficient way compared to Excel).\n",
    "\n",
    "## Overview of New Information\n",
    "\n",
    "| Python Code                |                            does what                             |\n",
    "|----------------------------|:----------------------------------------------------------------:|\n",
    "| `openpyxl.load_workbook(x)` |           Load Excel file `x` into a Python variable.           |\n",
    "| `wb.active`                |           Load the first worksheet of the Excel file.            |\n",
    "| `ws.values`                | Load the values of the Excel cells after loading the Excel file. |\n",
    "| `list(x)`                  |          Convert (in most cases) a tuple `x` to a list           |\n",
    "| `wb.save()`                |                Save information to an Excel file.                |"
   ]
  }
 ],
 "metadata": {
  "kernelspec": {
   "display_name": "base",
   "language": "python",
   "name": "python3"
  },
  "language_info": {
   "codemirror_mode": {
    "name": "ipython",
    "version": 3
   },
   "file_extension": ".py",
   "mimetype": "text/x-python",
   "name": "python",
   "nbconvert_exporter": "python",
   "pygments_lexer": "ipython3",
   "version": "3.9.13"
  },
  "vscode": {
   "interpreter": {
    "hash": "35cee20db335b827e2ae064625f84a609e5aba30ab196e5a7d29a850ee71e3d2"
   }
  }
 },
 "nbformat": 4,
 "nbformat_minor": 0
}
