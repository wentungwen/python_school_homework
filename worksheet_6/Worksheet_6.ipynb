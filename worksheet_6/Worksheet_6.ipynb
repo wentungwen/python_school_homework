{
 "cells": [
  {
   "attachments": {},
   "cell_type": "markdown",
   "metadata": {
    "collapsed": false
   },
   "source": [
    "# Worksheet 6: Smorgasbord\n"
   ]
  },
  {
   "attachments": {},
   "cell_type": "markdown",
   "metadata": {
    "collapsed": false
   },
   "source": [
    "Remember: Google is your friend! Functions are explained in more detail (amongst others) on the Python website, and the\n",
    "website \"Stackoverflow.com\" probably has the answer to all of life's (programming related) issues. So if you add \"site:stackoverflow.com\" to your\n",
    "Google query, you should be able to find someone who was experiencing a similar issue, and the way to solve it.\n"
   ]
  },
  {
   "attachments": {},
   "cell_type": "markdown",
   "metadata": {
    "collapsed": false
   },
   "source": [
    "I tried to kinda fit a voting theme into this week's Worksheet, as the Provincial States elections are coming up here in the Netherlands at the time that I'm making this. However, at a certain point, my inspiration for exercises on that topic faded away. So there's not really a theme this week. Just a bunch of random exercises. :)\n"
   ]
  },
  {
   "attachments": {},
   "cell_type": "markdown",
   "metadata": {
    "collapsed": false
   },
   "source": [
    "## Opening, modifying, and saving CSV (.csv) files\n",
    "\n",
    "As explained in the video lecture, CSV files are closely related to Excel files. CSV files are still the standard when working with tabular formatted data with a programming language. File sizes are small, and quick to process, so that is nice. But, annoyingly, Excel (.xls(x)) and .csv files require a different approach when we use Python. Last week, we have looked into opening, modifying, and saving the former. Now we will look into doing the same with the latter. First off: how do we open these files? For this code block, download `Areas_in_the_Netherlands.csv` from Canvas and place this file in the same folder as this worksheet.\n"
   ]
  },
  {
   "cell_type": "code",
   "execution_count": null,
   "metadata": {
    "collapsed": false
   },
   "outputs": [],
   "source": [
    "# Code block 1: Opening CSV files\n",
    "with open('./Areas_in_the_Netherlands.csv', mode='r') as f:\n",
    "    area_list = f.read()\n",
    "\n",
    "print(area_list)\n"
   ]
  },
  {
   "attachments": {},
   "cell_type": "markdown",
   "metadata": {
    "collapsed": false
   },
   "source": [
    "We have now loaded the CSV file the same way you would load a text file. We get to see all the text, but it is still completely without structure. We get a long string where the records and this record's attributes are not loaded as separate items. So we want to load it in a slightly nicer way. For that we have to use the csv library.\n"
   ]
  },
  {
   "cell_type": "code",
   "execution_count": null,
   "metadata": {
    "collapsed": false
   },
   "outputs": [],
   "source": [
    "# Code block 2: Opening CSV files (part 2)\n",
    "\n",
    "import csv\n",
    "\n",
    "with open('./Areas_in_the_Netherlands.csv', mode='r') as f:\n",
    "    area_csv = csv.reader(f)\n",
    "\n",
    "print(area_csv)\n"
   ]
  },
  {
   "attachments": {},
   "cell_type": "markdown",
   "metadata": {
    "collapsed": false
   },
   "source": [
    "This still doesn't quite work. With the csv library, for some strange, unknown reason you have to store the information we read from the csv file in another variable (and do this before closing the file) before you can do anything with that information. So you have to write a little more code.\n"
   ]
  },
  {
   "cell_type": "code",
   "execution_count": 2,
   "metadata": {
    "collapsed": false
   },
   "outputs": [
    {
     "name": "stdout",
     "output_type": "stream",
     "text": [
      "['municipality_name', 'municipality_code', 'municipality_name_machine_friendly', 'region_id', 'region_name']\n",
      "['Aa en Hunze', 'GM1680', 'AaenHunze', 'RE01', 'Noord-Nederland']\n",
      "['Aalsmeer', 'GM0358', 'Aalsmeer', 'RE05', 'Amsterdam']\n",
      "['Aalten', 'GM0197', 'Aalten', 'RE02', 'Oost-Nederland']\n",
      "['Achtkarspelen', 'GM0059', 'Achtkarspelen', 'RE01', 'Noord-Nederland']\n",
      "['Alblasserdam', 'GM0482', 'Alblasserdam', 'RE07', 'Rotterdam']\n",
      "['Albrandswaard', 'GM0613', 'Albrandswaard', 'RE07', 'Rotterdam']\n",
      "['Alkmaar', 'GM0361', 'Alkmaar', 'RE04', 'Noord-Holland']\n",
      "['Almelo', 'GM0141', 'Almelo', 'RE02', 'Oost-Nederland']\n",
      "['Almere', 'GM0034', 'Almere', 'RE03', 'Midden-Nederland']\n",
      "['Alphen aan den Rijn', 'GM0484', 'AlphenaandenRijn', 'RE06', 'DenHaag']\n",
      "['Alphen-Chaam', 'GM1723', 'Alphen-Chaam', 'RE08', 'Zeeland-West-Brabant']\n",
      "['Altena', 'GM1959', 'Altena', 'RE08', 'Zeeland-West-Brabant']\n",
      "['Ameland', 'GM0060', 'Ameland', 'RE01', 'Noord-Nederland']\n",
      "['Amersfoort', 'GM0307', 'Amersfoort', 'RE03', 'Midden-Nederland']\n",
      "['Amstelveen', 'GM0362', 'Amstelveen', 'RE05', 'Amsterdam']\n",
      "['Amsterdam', 'GM0363', 'Amsterdam', 'RE05', 'Amsterdam']\n",
      "['Apeldoorn', 'GM0200', 'Apeldoorn', 'RE02', 'Oost-Nederland']\n",
      "['Arnhem', 'GM0202', 'Arnhem', 'RE02', 'Oost-Nederland']\n",
      "['Assen', 'GM0106', 'Assen', 'RE01', 'Noord-Nederland']\n",
      "['Asten', 'GM0743', 'Asten', 'RE09', 'Oost-Brabant']\n",
      "['Baarle-Nassau', 'GM0744', 'Baarle-Nassau', 'RE08', 'Zeeland-West-Brabant']\n",
      "['Baarn', 'GM0308', 'Baarn', 'RE03', 'Midden-Nederland']\n",
      "['Barendrecht', 'GM0489', 'Barendrecht', 'RE07', 'Rotterdam']\n",
      "['Barneveld', 'GM0203', 'Barneveld', 'RE02', 'Oost-Nederland']\n",
      "['Beek (L.)', 'GM0888', 'Beek', 'RE10', 'Limburg']\n",
      "['Beekdaelen', 'GM1954', 'Beekdaelen', 'RE10', 'Limburg']\n",
      "['Beemster', 'GM0370', 'Beemster', 'RE04', 'Noord-Holland']\n",
      "['Beesel', 'GM0889', 'Beesel', 'RE10', 'Limburg']\n",
      "['Berg en Dal', 'GM1945', 'BergenDal', 'RE02', 'Oost-Nederland']\n",
      "['Bergeijk', 'GM1724', 'Bergeijk', 'RE09', 'Oost-Brabant']\n",
      "['Bergen (L.)', 'GM0893', 'Bergen(L.)', 'RE10', 'Limburg']\n",
      "['Bergen (NH.)', 'GM0373', 'Bergen(NH.)', 'RE04', 'Noord-Holland']\n",
      "['Bergen op Zoom', 'GM0748', 'BergenopZoom', 'RE08', 'Zeeland-West-Brabant']\n",
      "['Berkelland', 'GM1859', 'Berkelland', 'RE02', 'Oost-Nederland']\n",
      "['Bernheze', 'GM1721', 'Bernheze', 'RE09', 'Oost-Brabant']\n",
      "['Best', 'GM0753', 'Best', 'RE09', 'Oost-Brabant']\n",
      "['Beuningen', 'GM0209', 'Beuningen', 'RE02', 'Oost-Nederland']\n",
      "['Beverwijk', 'GM0375', 'Beverwijk', 'RE04', 'Noord-Holland']\n",
      "['De Bilt', 'GM0310', 'DeBilt', 'RE03', 'Midden-Nederland']\n",
      "['Bladel', 'GM1728', 'Bladel', 'RE09', 'Oost-Brabant']\n",
      "['Blaricum', 'GM0376', 'Blaricum', 'RE03', 'Midden-Nederland']\n",
      "['Bloemendaal', 'GM0377', 'Bloemendaal', 'RE04', 'Noord-Holland']\n",
      "['Bodegraven-Reeuwijk', 'GM1901', 'Bodegraven-Reeuwijk', 'RE06', 'DenHaag']\n",
      "['Boekel', 'GM0755', 'Boekel', 'RE09', 'Oost-Brabant']\n",
      "['Borger-Odoorn', 'GM1681', 'Borger-Odoorn', 'RE01', 'Noord-Nederland']\n",
      "['Borne', 'GM0147', 'Borne', 'RE02', 'Oost-Nederland']\n",
      "['Borsele', 'GM0654', 'Borsele', 'RE08', 'Zeeland-West-Brabant']\n",
      "['Boxmeer', 'GM0756', 'Boxmeer', 'RE09', 'Oost-Brabant']\n",
      "['Boxtel', 'GM0757', 'Boxtel', 'RE09', 'Oost-Brabant']\n",
      "['Breda', 'GM0758', 'Breda', 'RE08', 'Zeeland-West-Brabant']\n",
      "['Brielle', 'GM0501', 'Brielle', 'RE07', 'Rotterdam']\n",
      "['Bronckhorst', 'GM1876', 'Bronckhorst', 'RE02', 'Oost-Nederland']\n",
      "['Brummen', 'GM0213', 'Brummen', 'RE02', 'Oost-Nederland']\n",
      "['Brunssum', 'GM0899', 'Brunssum', 'RE10', 'Limburg']\n",
      "['Bunnik', 'GM0312', 'Bunnik', 'RE03', 'Midden-Nederland']\n",
      "['Bunschoten', 'GM0313', 'Bunschoten', 'RE03', 'Midden-Nederland']\n",
      "['Buren', 'GM0214', 'Buren', 'RE02', 'Oost-Nederland']\n",
      "['Capelle aan den IJssel', 'GM0502', 'CapelleaandenIJssel', 'RE07', 'Rotterdam']\n",
      "['Castricum', 'GM0383', 'Castricum', 'RE04', 'Noord-Holland']\n",
      "['Coevorden', 'GM0109', 'Coevorden', 'RE01', 'Noord-Nederland']\n",
      "['Cranendonck', 'GM1706', 'Cranendonck', 'RE09', 'Oost-Brabant']\n",
      "['Cuijk', 'GM1684', 'Cuijk', 'RE09', 'Oost-Brabant']\n",
      "['Culemborg', 'GM0216', 'Culemborg', 'RE02', 'Oost-Nederland']\n",
      "['Dalfsen', 'GM0148', 'Dalfsen', 'RE02', 'Oost-Nederland']\n",
      "['Dantumadiel', 'GM1891', 'Dantumadiel', 'RE01', 'Noord-Nederland']\n",
      "['Delft', 'GM0503', 'Delft', 'RE06', 'DenHaag']\n",
      "['Deurne', 'GM0762', 'Deurne', 'RE09', 'Oost-Brabant']\n",
      "['Deventer', 'GM0150', 'Deventer', 'RE02', 'Oost-Nederland']\n",
      "['Diemen', 'GM0384', 'Diemen', 'RE05', 'Amsterdam']\n",
      "['Dinkelland', 'GM1774', 'Dinkelland', 'RE02', 'Oost-Nederland']\n",
      "['Doesburg', 'GM0221', 'Doesburg', 'RE02', 'Oost-Nederland']\n",
      "['Doetinchem', 'GM0222', 'Doetinchem', 'RE02', 'Oost-Nederland']\n",
      "['Dongen', 'GM0766', 'Dongen', 'RE08', 'Zeeland-West-Brabant']\n",
      "['Dordrecht', 'GM0505', 'Dordrecht', 'RE07', 'Rotterdam']\n",
      "['Drechterland', 'GM0498', 'Drechterland', 'RE04', 'Noord-Holland']\n",
      "['Drimmelen', 'GM1719', 'Drimmelen', 'RE08', 'Zeeland-West-Brabant']\n",
      "['Dronten', 'GM0303', 'Dronten', 'RE03', 'Midden-Nederland']\n",
      "['Druten', 'GM0225', 'Druten', 'RE02', 'Oost-Nederland']\n",
      "['Duiven', 'GM0226', 'Duiven', 'RE02', 'Oost-Nederland']\n",
      "['Echt-Susteren', 'GM1711', 'Echt-Susteren', 'RE10', 'Limburg']\n",
      "['Edam-Volendam', 'GM0385', 'Edam-Volendam', 'RE04', 'Noord-Holland']\n",
      "['Ede', 'GM0228', 'Ede', 'RE02', 'Oost-Nederland']\n",
      "['Eemnes', 'GM0317', 'Eemnes', 'RE03', 'Midden-Nederland']\n",
      "['Eemsdelta', 'GM1979', 'Eemsdelta', 'RE01', 'Noord-Nederland']\n",
      "['Eersel', 'GM0770', 'Eersel', 'RE09', 'Oost-Brabant']\n",
      "['Eijsden-Margraten', 'GM1903', 'Eijsden-Margraten', 'RE10', 'Limburg']\n",
      "['Eindhoven', 'GM0772', 'Eindhoven', 'RE09', 'Oost-Brabant']\n",
      "['Elburg', 'GM0230', 'Elburg', 'RE02', 'Oost-Nederland']\n",
      "['Emmen', 'GM0114', 'Emmen', 'RE01', 'Noord-Nederland']\n",
      "['Enkhuizen', 'GM0388', 'Enkhuizen', 'RE04', 'Noord-Holland']\n",
      "['Enschede', 'GM0153', 'Enschede', 'RE02', 'Oost-Nederland']\n",
      "['Epe', 'GM0232', 'Epe', 'RE02', 'Oost-Nederland']\n",
      "['Ermelo', 'GM0233', 'Ermelo', 'RE02', 'Oost-Nederland']\n",
      "['Etten-Leur', 'GM0777', 'Etten-Leur', 'RE08', 'Zeeland-West-Brabant']\n",
      "['De Fryske Marren', 'GM1940', 'DeFryskeMarren', 'RE01', 'Noord-Nederland']\n",
      "['Geertruidenberg', 'GM0779', 'Geertruidenberg', 'RE08', 'Zeeland-West-Brabant']\n",
      "['Geldrop-Mierlo', 'GM1771', 'Geldrop-Mierlo', 'RE09', 'Oost-Brabant']\n",
      "['Gemert-Bakel', 'GM1652', 'Gemert-Bakel', 'RE09', 'Oost-Brabant']\n",
      "['Gennep', 'GM0907', 'Gennep', 'RE10', 'Limburg']\n",
      "['Gilze en Rijen', 'GM0784', 'GilzeenRijen', 'RE08', 'Zeeland-West-Brabant']\n",
      "['Goeree-Overflakkee', 'GM1924', 'Goeree-Overflakkee', 'RE07', 'Rotterdam']\n",
      "['Goes', 'GM0664', 'Goes', 'RE08', 'Zeeland-West-Brabant']\n",
      "['Goirle', 'GM0785', 'Goirle', 'RE08', 'Zeeland-West-Brabant']\n",
      "['Gooise Meren', 'GM1942', 'GooiseMeren', 'RE03', 'Midden-Nederland']\n",
      "['Gorinchem', 'GM0512', 'Gorinchem', 'RE07', 'Rotterdam']\n",
      "['Gouda', 'GM0513', 'Gouda', 'RE06', 'DenHaag']\n",
      "['Grave', 'GM0786', 'Grave', 'RE09', 'Oost-Brabant']\n",
      "[\"'s-Gravenhage (gemeente)\", 'GM0518', \"'s-Gravenhage\", 'RE06', 'DenHaag']\n",
      "['Groningen (gemeente)', 'GM0014', 'Groningen', 'RE01', 'Noord-Nederland']\n",
      "['Gulpen-Wittem', 'GM1729', 'Gulpen-Wittem', 'RE10', 'Limburg']\n",
      "['Haaksbergen', 'GM0158', 'Haaksbergen', 'RE02', 'Oost-Nederland']\n",
      "['Haarlem', 'GM0392', 'Haarlem', 'RE04', 'Noord-Holland']\n",
      "['Haarlemmermeer', 'GM0394', 'Haarlemmermeer', 'RE04', 'Noord-Holland']\n",
      "['Halderberge', 'GM1655', 'Halderberge', 'RE08', 'Zeeland-West-Brabant']\n",
      "['Hardenberg', 'GM0160', 'Hardenberg', 'RE02', 'Oost-Nederland']\n",
      "['Harderwijk', 'GM0243', 'Harderwijk', 'RE02', 'Oost-Nederland']\n",
      "['Hardinxveld-Giessendam', 'GM0523', 'Hardinxveld-Giessendam', 'RE07', 'Rotterdam']\n",
      "['Harlingen', 'GM0072', 'Harlingen', 'RE01', 'Noord-Nederland']\n",
      "['Hattem', 'GM0244', 'Hattem', 'RE02', 'Oost-Nederland']\n",
      "['Heemskerk', 'GM0396', 'Heemskerk', 'RE04', 'Noord-Holland']\n",
      "['Heemstede', 'GM0397', 'Heemstede', 'RE04', 'Noord-Holland']\n",
      "['Heerde', 'GM0246', 'Heerde', 'RE02', 'Oost-Nederland']\n",
      "['Heerenveen', 'GM0074', 'Heerenveen', 'RE01', 'Noord-Nederland']\n",
      "['Heerhugowaard', 'GM0398', 'Heerhugowaard', 'RE04', 'Noord-Holland']\n",
      "['Heerlen', 'GM0917', 'Heerlen', 'RE10', 'Limburg']\n",
      "['Heeze-Leende', 'GM1658', 'Heeze-Leende', 'RE09', 'Oost-Brabant']\n",
      "['Heiloo', 'GM0399', 'Heiloo', 'RE04', 'Noord-Holland']\n",
      "['Den Helder', 'GM0400', 'DenHelder', 'RE04', 'Noord-Holland']\n",
      "['Hellendoorn', 'GM0163', 'Hellendoorn', 'RE02', 'Oost-Nederland']\n",
      "['Hellevoetsluis', 'GM0530', 'Hellevoetsluis', 'RE07', 'Rotterdam']\n",
      "['Helmond', 'GM0794', 'Helmond', 'RE09', 'Oost-Brabant']\n",
      "['Hendrik-Ido-Ambacht', 'GM0531', 'Hendrik-Ido-Ambacht', 'RE07', 'Rotterdam']\n",
      "['Hengelo (O.)', 'GM0164', 'Hengelo', 'RE02', 'Oost-Nederland']\n",
      "[\"'s-Hertogenbosch\", 'GM0796', \"'s-Hertogenbosch\", 'RE09', 'Oost-Brabant']\n",
      "['Heumen', 'GM0252', 'Heumen', 'RE02', 'Oost-Nederland']\n",
      "['Heusden', 'GM0797', 'Heusden', 'RE09', 'Oost-Brabant']\n",
      "['Hillegom', 'GM0534', 'Hillegom', 'RE06', 'DenHaag']\n",
      "['Hilvarenbeek', 'GM0798', 'Hilvarenbeek', 'RE08', 'Zeeland-West-Brabant']\n",
      "['Hilversum', 'GM0402', 'Hilversum', 'RE03', 'Midden-Nederland']\n",
      "['Hoeksche Waard', 'GM1963', 'HoekscheWaard', 'RE07', 'Rotterdam']\n",
      "['Hof van Twente', 'GM1735', 'HofvanTwente', 'RE02', 'Oost-Nederland']\n",
      "['Het Hogeland', 'GM1966', 'HetHogeland', 'RE01', 'Noord-Nederland']\n",
      "['Hollands Kroon', 'GM1911', 'HollandsKroon', 'RE04', 'Noord-Holland']\n",
      "['Hoogeveen', 'GM0118', 'Hoogeveen', 'RE01', 'Noord-Nederland']\n",
      "['Hoorn', 'GM0405', 'Hoorn', 'RE04', 'Noord-Holland']\n",
      "['Horst aan de Maas', 'GM1507', 'HorstaandeMaas', 'RE10', 'Limburg']\n",
      "['Houten', 'GM0321', 'Houten', 'RE03', 'Midden-Nederland']\n",
      "['Huizen', 'GM0406', 'Huizen', 'RE03', 'Midden-Nederland']\n",
      "['Hulst', 'GM0677', 'Hulst', 'RE08', 'Zeeland-West-Brabant']\n",
      "['IJsselstein', 'GM0353', 'IJsselstein', 'RE03', 'Midden-Nederland']\n",
      "['Kaag en Braassem', 'GM1884', 'KaagenBraassem', 'RE06', 'DenHaag']\n",
      "['Kampen', 'GM0166', 'Kampen', 'RE02', 'Oost-Nederland']\n",
      "['Kapelle', 'GM0678', 'Kapelle', 'RE08', 'Zeeland-West-Brabant']\n",
      "['Katwijk', 'GM0537', 'Katwijk', 'RE06', 'DenHaag']\n",
      "['Kerkrade', 'GM0928', 'Kerkrade', 'RE10', 'Limburg']\n",
      "['Koggenland', 'GM1598', 'Koggenland', 'RE04', 'Noord-Holland']\n",
      "['Krimpen aan den IJssel', 'GM0542', 'KrimpenaandenIJssel', 'RE07', 'Rotterdam']\n",
      "['Krimpenerwaard', 'GM1931', 'Krimpenerwaard', 'RE06', 'DenHaag']\n",
      "['Laarbeek', 'GM1659', 'Laarbeek', 'RE09', 'Oost-Brabant']\n",
      "['Landerd', 'GM1685', 'Landerd', 'RE09', 'Oost-Brabant']\n",
      "['Landgraaf', 'GM0882', 'Landgraaf', 'RE10', 'Limburg']\n",
      "['Landsmeer', 'GM0415', 'Landsmeer', 'RE04', 'Noord-Holland']\n",
      "['Langedijk', 'GM0416', 'Langedijk', 'RE04', 'Noord-Holland']\n",
      "['Lansingerland', 'GM1621', 'Lansingerland', 'RE07', 'Rotterdam']\n",
      "['Laren (NH.)', 'GM0417', 'Laren', 'RE03', 'Midden-Nederland']\n",
      "['Leeuwarden', 'GM0080', 'Leeuwarden', 'RE01', 'Noord-Nederland']\n",
      "['Leiden', 'GM0546', 'Leiden', 'RE06', 'DenHaag']\n",
      "['Leiderdorp', 'GM0547', 'Leiderdorp', 'RE06', 'DenHaag']\n",
      "['Leidschendam-Voorburg', 'GM1916', 'Leidschendam-Voorburg', 'RE06', 'DenHaag']\n",
      "['Lelystad', 'GM0995', 'Lelystad', 'RE03', 'Midden-Nederland']\n",
      "['Leudal', 'GM1640', 'Leudal', 'RE10', 'Limburg']\n",
      "['Leusden', 'GM0327', 'Leusden', 'RE03', 'Midden-Nederland']\n",
      "['Lingewaard', 'GM1705', 'Lingewaard', 'RE02', 'Oost-Nederland']\n",
      "['Lisse', 'GM0553', 'Lisse', 'RE06', 'DenHaag']\n",
      "['Lochem', 'GM0262', 'Lochem', 'RE02', 'Oost-Nederland']\n",
      "['Loon op Zand', 'GM0809', 'LoonopZand', 'RE08', 'Zeeland-West-Brabant']\n",
      "['Lopik', 'GM0331', 'Lopik', 'RE03', 'Midden-Nederland']\n",
      "['Losser', 'GM0168', 'Losser', 'RE02', 'Oost-Nederland']\n",
      "['Maasdriel', 'GM0263', 'Maasdriel', 'RE02', 'Oost-Nederland']\n",
      "['Maasgouw', 'GM1641', 'Maasgouw', 'RE10', 'Limburg']\n",
      "['Maassluis', 'GM0556', 'Maassluis', 'RE07', 'Rotterdam']\n",
      "['Maastricht', 'GM0935', 'Maastricht', 'RE10', 'Limburg']\n",
      "['Medemblik', 'GM0420', 'Medemblik', 'RE04', 'Noord-Holland']\n",
      "['Meerssen', 'GM0938', 'Meerssen', 'RE10', 'Limburg']\n",
      "['Meierijstad', 'GM1948', 'Meierijstad', 'RE09', 'Oost-Brabant']\n",
      "['Meppel', 'GM0119', 'Meppel', 'RE01', 'Noord-Nederland']\n",
      "['Middelburg (Z.)', 'GM0687', 'Middelburg', 'RE08', 'Zeeland-West-Brabant']\n",
      "['Midden-Delfland', 'GM1842', 'Midden-Delfland', 'RE06', 'DenHaag']\n",
      "['Midden-Drenthe', 'GM1731', 'Midden-Drenthe', 'RE01', 'Noord-Nederland']\n",
      "['Midden-Groningen', 'GM1952', 'Midden-Groningen', 'RE01', 'Noord-Nederland']\n",
      "['Mill en Sint Hubert', 'GM0815', 'MillenSintHubert', 'RE09', 'Oost-Brabant']\n",
      "['Moerdijk', 'GM1709', 'Moerdijk', 'RE08', 'Zeeland-West-Brabant']\n",
      "['Molenlanden', 'GM1978', 'Molenlanden', 'RE07', 'Rotterdam']\n",
      "['Montferland', 'GM1955', 'Montferland', 'RE02', 'Oost-Nederland']\n",
      "['Montfoort', 'GM0335', 'Montfoort', 'RE03', 'Midden-Nederland']\n",
      "['Mook en Middelaar', 'GM0944', 'MookenMiddelaar', 'RE10', 'Limburg']\n",
      "['Neder-Betuwe', 'GM1740', 'Neder-Betuwe', 'RE02', 'Oost-Nederland']\n",
      "['Nederweert', 'GM0946', 'Nederweert', 'RE10', 'Limburg']\n",
      "['Nieuwegein', 'GM0356', 'Nieuwegein', 'RE03', 'Midden-Nederland']\n",
      "['Nieuwkoop', 'GM0569', 'Nieuwkoop', 'RE06', 'DenHaag']\n",
      "['Nijkerk', 'GM0267', 'Nijkerk', 'RE02', 'Oost-Nederland']\n",
      "['Nijmegen', 'GM0268', 'Nijmegen', 'RE02', 'Oost-Nederland']\n",
      "['Nissewaard', 'GM1930', 'Nissewaard', 'RE07', 'Rotterdam']\n",
      "['Noardeast-Fryslân', 'GM1970', 'Noardeast-Fryslân', 'RE01', 'Noord-Nederland']\n",
      "['Noord-Beveland', 'GM1695', 'Noord-Beveland', 'RE08', 'Zeeland-West-Brabant']\n",
      "['Noordenveld', 'GM1699', 'Noordenveld', 'RE01', 'Noord-Nederland']\n",
      "['Noordoostpolder', 'GM0171', 'Noordoostpolder', 'RE03', 'Midden-Nederland']\n",
      "['Noordwijk', 'GM0575', 'Noordwijk', 'RE06', 'DenHaag']\n",
      "['Nuenen, Gerwen en Nederwetten', 'GM0820', 'Nuenen,GerwenenNederwetten', 'RE09', 'Oost-Brabant']\n",
      "['Nunspeet', 'GM0302', 'Nunspeet', 'RE02', 'Oost-Nederland']\n",
      "['Oegstgeest', 'GM0579', 'Oegstgeest', 'RE06', 'DenHaag']\n",
      "['Oirschot', 'GM0823', 'Oirschot', 'RE09', 'Oost-Brabant']\n",
      "['Oisterwijk', 'GM0824', 'Oisterwijk', 'RE08', 'Zeeland-West-Brabant']\n",
      "['Oldambt', 'GM1895', 'Oldambt', 'RE01', 'Noord-Nederland']\n",
      "['Oldebroek', 'GM0269', 'Oldebroek', 'RE02', 'Oost-Nederland']\n",
      "['Oldenzaal', 'GM0173', 'Oldenzaal', 'RE02', 'Oost-Nederland']\n",
      "['Olst-Wijhe', 'GM1773', 'Olst-Wijhe', 'RE02', 'Oost-Nederland']\n",
      "['Ommen', 'GM0175', 'Ommen', 'RE02', 'Oost-Nederland']\n",
      "['Oost Gelre', 'GM1586', 'OostGelre', 'RE02', 'Oost-Nederland']\n",
      "['Oosterhout', 'GM0826', 'Oosterhout', 'RE08', 'Zeeland-West-Brabant']\n",
      "['Ooststellingwerf', 'GM0085', 'Ooststellingwerf', 'RE01', 'Noord-Nederland']\n",
      "['Oostzaan', 'GM0431', 'Oostzaan', 'RE04', 'Noord-Holland']\n",
      "['Opmeer', 'GM0432', 'Opmeer', 'RE04', 'Noord-Holland']\n",
      "['Opsterland', 'GM0086', 'Opsterland', 'RE01', 'Noord-Nederland']\n",
      "['Oss', 'GM0828', 'Oss', 'RE09', 'Oost-Brabant']\n",
      "['Oude IJsselstreek', 'GM1509', 'OudeIJsselstreek', 'RE02', 'Oost-Nederland']\n",
      "['Ouder-Amstel', 'GM0437', 'Ouder-Amstel', 'RE05', 'Amsterdam']\n",
      "['Oudewater', 'GM0589', 'Oudewater', 'RE03', 'Midden-Nederland']\n",
      "['Overbetuwe', 'GM1734', 'Overbetuwe', 'RE02', 'Oost-Nederland']\n",
      "['Papendrecht', 'GM0590', 'Papendrecht', 'RE07', 'Rotterdam']\n",
      "['Peel en Maas', 'GM1894', 'PeelenMaas', 'RE10', 'Limburg']\n",
      "['Pekela', 'GM0765', 'Pekela', 'RE01', 'Noord-Nederland']\n",
      "['Pijnacker-Nootdorp', 'GM1926', 'Pijnacker-Nootdorp', 'RE06', 'DenHaag']\n",
      "['Purmerend', 'GM0439', 'Purmerend', 'RE04', 'Noord-Holland']\n",
      "['Putten', 'GM0273', 'Putten', 'RE02', 'Oost-Nederland']\n",
      "['Raalte', 'GM0177', 'Raalte', 'RE02', 'Oost-Nederland']\n",
      "['Reimerswaal', 'GM0703', 'Reimerswaal', 'RE08', 'Zeeland-West-Brabant']\n",
      "['Renkum', 'GM0274', 'Renkum', 'RE02', 'Oost-Nederland']\n",
      "['Renswoude', 'GM0339', 'Renswoude', 'RE03', 'Midden-Nederland']\n",
      "['Reusel-De Mierden', 'GM1667', 'Reusel-DeMierden', 'RE09', 'Oost-Brabant']\n",
      "['Rheden', 'GM0275', 'Rheden', 'RE02', 'Oost-Nederland']\n",
      "['Rhenen', 'GM0340', 'Rhenen', 'RE03', 'Midden-Nederland']\n",
      "['Ridderkerk', 'GM0597', 'Ridderkerk', 'RE07', 'Rotterdam']\n",
      "['Rijssen-Holten', 'GM1742', 'Rijssen-Holten', 'RE02', 'Oost-Nederland']\n",
      "['Rijswijk (ZH.)', 'GM0603', 'Rijswijk', 'RE06', 'DenHaag']\n",
      "['Roerdalen', 'GM1669', 'Roerdalen', 'RE10', 'Limburg']\n",
      "['Roermond', 'GM0957', 'Roermond', 'RE10', 'Limburg']\n",
      "['De Ronde Venen', 'GM0736', 'DeRondeVenen', 'RE03', 'Midden-Nederland']\n",
      "['Roosendaal', 'GM1674', 'Roosendaal', 'RE08', 'Zeeland-West-Brabant']\n",
      "['Rotterdam', 'GM0599', 'Rotterdam', 'RE07', 'Rotterdam']\n",
      "['Rozendaal', 'GM0277', 'Rozendaal', 'RE02', 'Oost-Nederland']\n",
      "['Rucphen', 'GM0840', 'Rucphen', 'RE08', 'Zeeland-West-Brabant']\n",
      "['Schagen', 'GM0441', 'Schagen', 'RE04', 'Noord-Holland']\n",
      "['Scherpenzeel', 'GM0279', 'Scherpenzeel', 'RE02', 'Oost-Nederland']\n",
      "['Schiedam', 'GM0606', 'Schiedam', 'RE07', 'Rotterdam']\n",
      "['Schiermonnikoog', 'GM0088', 'Schiermonnikoog', 'RE01', 'Noord-Nederland']\n",
      "['Schouwen-Duiveland', 'GM1676', 'Schouwen-Duiveland', 'RE08', 'Zeeland-West-Brabant']\n",
      "['Simpelveld', 'GM0965', 'Simpelveld', 'RE10', 'Limburg']\n",
      "['Sint Anthonis', 'GM1702', 'SintAnthonis', 'RE09', 'Oost-Brabant']\n",
      "['Sint-Michielsgestel', 'GM0845', 'Sint-Michielsgestel', 'RE09', 'Oost-Brabant']\n",
      "['Sittard-Geleen', 'GM1883', 'Sittard-Geleen', 'RE10', 'Limburg']\n",
      "['Sliedrecht', 'GM0610', 'Sliedrecht', 'RE07', 'Rotterdam']\n",
      "['Sluis', 'GM1714', 'Sluis', 'RE08', 'Zeeland-West-Brabant']\n",
      "['Smallingerland', 'GM0090', 'Smallingerland', 'RE01', 'Noord-Nederland']\n",
      "['Soest', 'GM0342', 'Soest', 'RE03', 'Midden-Nederland']\n",
      "['Someren', 'GM0847', 'Someren', 'RE09', 'Oost-Brabant']\n",
      "['Son en Breugel', 'GM0848', 'SonenBreugel', 'RE09', 'Oost-Brabant']\n",
      "['Stadskanaal', 'GM0037', 'Stadskanaal', 'RE01', 'Noord-Nederland']\n",
      "['Staphorst', 'GM0180', 'Staphorst', 'RE02', 'Oost-Nederland']\n",
      "['Stede Broec', 'GM0532', 'StedeBroec', 'RE04', 'Noord-Holland']\n",
      "['Steenbergen', 'GM0851', 'Steenbergen', 'RE08', 'Zeeland-West-Brabant']\n",
      "['Steenwijkerland', 'GM1708', 'Steenwijkerland', 'RE02', 'Oost-Nederland']\n",
      "['Stein (L.)', 'GM0971', 'Stein', 'RE10', 'Limburg']\n",
      "['Stichtse Vecht', 'GM1904', 'StichtseVecht', 'RE03', 'Midden-Nederland']\n",
      "['Súdwest-Fryslân', 'GM1900', 'Súdwest-Fryslân', 'RE01', 'Noord-Nederland']\n",
      "['Terneuzen', 'GM0715', 'Terneuzen', 'RE08', 'Zeeland-West-Brabant']\n",
      "['Terschelling', 'GM0093', 'Terschelling', 'RE01', 'Noord-Nederland']\n",
      "['Texel', 'GM0448', 'Texel', 'RE04', 'Noord-Holland']\n",
      "['Teylingen', 'GM1525', 'Teylingen', 'RE06', 'DenHaag']\n",
      "['Tholen', 'GM0716', 'Tholen', 'RE08', 'Zeeland-West-Brabant']\n",
      "['Tiel', 'GM0281', 'Tiel', 'RE02', 'Oost-Nederland']\n",
      "['Tilburg', 'GM0855', 'Tilburg', 'RE08', 'Zeeland-West-Brabant']\n",
      "['Tubbergen', 'GM0183', 'Tubbergen', 'RE02', 'Oost-Nederland']\n",
      "['Twenterand', 'GM1700', 'Twenterand', 'RE02', 'Oost-Nederland']\n",
      "['Tynaarlo', 'GM1730', 'Tynaarlo', 'RE01', 'Noord-Nederland']\n",
      "['Tytsjerksteradiel', 'GM0737', 'Tytsjerksteradiel', 'RE01', 'Noord-Nederland']\n",
      "['Uden', 'GM0856', 'Uden', 'RE09', 'Oost-Brabant']\n",
      "['Uitgeest', 'GM0450', 'Uitgeest', 'RE04', 'Noord-Holland']\n",
      "['Uithoorn', 'GM0451', 'Uithoorn', 'RE05', 'Amsterdam']\n",
      "['Urk', 'GM0184', 'Urk', 'RE03', 'Midden-Nederland']\n",
      "['Utrecht (gemeente)', 'GM0344', 'Utrecht', 'RE03', 'Midden-Nederland']\n",
      "['Utrechtse Heuvelrug', 'GM1581', 'UtrechtseHeuvelrug', 'RE03', 'Midden-Nederland']\n",
      "['Vaals', 'GM0981', 'Vaals', 'RE10', 'Limburg']\n",
      "['Valkenburg aan de Geul', 'GM0994', 'ValkenburgaandeGeul', 'RE10', 'Limburg']\n",
      "['Valkenswaard', 'GM0858', 'Valkenswaard', 'RE09', 'Oost-Brabant']\n",
      "['Veendam', 'GM0047', 'Veendam', 'RE01', 'Noord-Nederland']\n",
      "['Veenendaal', 'GM0345', 'Veenendaal', 'RE03', 'Midden-Nederland']\n",
      "['Veere', 'GM0717', 'Veere', 'RE08', 'Zeeland-West-Brabant']\n",
      "['Veldhoven', 'GM0861', 'Veldhoven', 'RE09', 'Oost-Brabant']\n",
      "['Velsen', 'GM0453', 'Velsen', 'RE04', 'Noord-Holland']\n",
      "['Venlo', 'GM0983', 'Venlo', 'RE10', 'Limburg']\n",
      "['Venray', 'GM0984', 'Venray', 'RE10', 'Limburg']\n",
      "['Vijfheerenlanden', 'GM1961', 'Vijfheerenlanden', 'RE03', 'Midden-Nederland']\n",
      "['Vlaardingen', 'GM0622', 'Vlaardingen', 'RE07', 'Rotterdam']\n",
      "['Vlieland', 'GM0096', 'Vlieland', 'RE01', 'Noord-Nederland']\n",
      "['Vlissingen', 'GM0718', 'Vlissingen', 'RE08', 'Zeeland-West-Brabant']\n",
      "['Voerendaal', 'GM0986', 'Voerendaal', 'RE10', 'Limburg']\n",
      "['Voorschoten', 'GM0626', 'Voorschoten', 'RE06', 'DenHaag']\n",
      "['Voorst', 'GM0285', 'Voorst', 'RE02', 'Oost-Nederland']\n",
      "['Vught', 'GM0865', 'Vught', 'RE09', 'Oost-Brabant']\n",
      "['Waadhoeke', 'GM1949', 'Waadhoeke', 'RE01', 'Noord-Nederland']\n",
      "['Waalre', 'GM0866', 'Waalre', 'RE09', 'Oost-Brabant']\n",
      "['Waalwijk', 'GM0867', 'Waalwijk', 'RE08', 'Zeeland-West-Brabant']\n",
      "['Waddinxveen', 'GM0627', 'Waddinxveen', 'RE06', 'DenHaag']\n",
      "['Wageningen', 'GM0289', 'Wageningen', 'RE02', 'Oost-Nederland']\n",
      "['Wassenaar', 'GM0629', 'Wassenaar', 'RE06', 'DenHaag']\n",
      "['Waterland', 'GM0852', 'Waterland', 'RE04', 'Noord-Holland']\n",
      "['Weert', 'GM0988', 'Weert', 'RE10', 'Limburg']\n",
      "['Weesp', 'GM0457', 'Weesp', 'RE03', 'Midden-Nederland']\n",
      "['West Betuwe', 'GM1960', 'WestBetuwe', 'RE02', 'Oost-Nederland']\n",
      "['West Maas en Waal', 'GM0668', 'WestMaasenWaal', 'RE02', 'Oost-Nederland']\n",
      "['Westerkwartier', 'GM1969', 'Westerkwartier', 'RE01', 'Noord-Nederland']\n",
      "['Westerveld', 'GM1701', 'Westerveld', 'RE01', 'Noord-Nederland']\n",
      "['Westervoort', 'GM0293', 'Westervoort', 'RE02', 'Oost-Nederland']\n",
      "['Westerwolde', 'GM1950', 'Westerwolde', 'RE01', 'Noord-Nederland']\n",
      "['Westland', 'GM1783', 'Westland', 'RE06', 'DenHaag']\n",
      "['Weststellingwerf', 'GM0098', 'Weststellingwerf', 'RE01', 'Noord-Nederland']\n",
      "['Westvoorne', 'GM0614', 'Westvoorne', 'RE07', 'Rotterdam']\n",
      "['Wierden', 'GM0189', 'Wierden', 'RE02', 'Oost-Nederland']\n",
      "['Wijchen', 'GM0296', 'Wijchen', 'RE02', 'Oost-Nederland']\n",
      "['Wijdemeren', 'GM1696', 'Wijdemeren', 'RE03', 'Midden-Nederland']\n",
      "['Wijk bij Duurstede', 'GM0352', 'WijkbijDuurstede', 'RE03', 'Midden-Nederland']\n",
      "['Winterswijk', 'GM0294', 'Winterswijk', 'RE02', 'Oost-Nederland']\n",
      "['Woensdrecht', 'GM0873', 'Woensdrecht', 'RE08', 'Zeeland-West-Brabant']\n",
      "['Woerden', 'GM0632', 'Woerden', 'RE03', 'Midden-Nederland']\n",
      "['De Wolden', 'GM1690', 'DeWolden', 'RE01', 'Noord-Nederland']\n",
      "['Wormerland', 'GM0880', 'Wormerland', 'RE04', 'Noord-Holland']\n",
      "['Woudenberg', 'GM0351', 'Woudenberg', 'RE03', 'Midden-Nederland']\n",
      "['Zaanstad', 'GM0479', 'Zaanstad', 'RE04', 'Noord-Holland']\n",
      "['Zaltbommel', 'GM0297', 'Zaltbommel', 'RE02', 'Oost-Nederland']\n",
      "['Zandvoort', 'GM0473', 'Zandvoort', 'RE04', 'Noord-Holland']\n",
      "['Zeewolde', 'GM0050', 'Zeewolde', 'RE03', 'Midden-Nederland']\n",
      "['Zeist', 'GM0355', 'Zeist', 'RE03', 'Midden-Nederland']\n",
      "['Zevenaar', 'GM0299', 'Zevenaar', 'RE02', 'Oost-Nederland']\n",
      "['Zoetermeer', 'GM0637', 'Zoetermeer', 'RE06', 'DenHaag']\n",
      "['Zoeterwoude', 'GM0638', 'Zoeterwoude', 'RE06', 'DenHaag']\n",
      "['Zuidplas', 'GM1892', 'Zuidplas', 'RE06', 'DenHaag']\n",
      "['Zundert', 'GM0879', 'Zundert', 'RE08', 'Zeeland-West-Brabant']\n",
      "['Zutphen', 'GM0301', 'Zutphen', 'RE02', 'Oost-Nederland']\n",
      "['Zwartewaterland', 'GM1896', 'Zwartewaterland', 'RE02', 'Oost-Nederland']\n",
      "['Zwijndrecht', 'GM0642', 'Zwijndrecht', 'RE07', 'Rotterdam']\n",
      "['Zwolle', 'GM0193', 'Zwolle', 'RE02', 'Oost-Nederland']\n"
     ]
    }
   ],
   "source": [
    "# Code block 3: Opening CSV files (part 3)\n",
    "\n",
    "import csv\n",
    "\n",
    "area_list = []\n",
    "\n",
    "with open('./data/Areas_in_the_Netherlands.csv', mode='r') as f:\n",
    "    area_csv = csv.reader(f)\n",
    "    for record in area_csv:\n",
    "        area_list.append(record)\n",
    "\n",
    "for record in area_list:\n",
    "    print(record)\n"
   ]
  },
  {
   "attachments": {},
   "cell_type": "markdown",
   "metadata": {
    "collapsed": false
   },
   "source": [
    "Now it works the way we want it to! Remember from last week, a CSV (and therefore also an Excel file) is just a kind of list-of-lists: you have one big list that represents the entire file. And in that big list you will find individual lists that each represent a record. Those record lists consist of several items that represent the attributes.\n"
   ]
  },
  {
   "attachments": {},
   "cell_type": "markdown",
   "metadata": {
    "collapsed": false
   },
   "source": [
    "**[Exercise 1]** Suppose you are the world's biggest fan of the municipality of _Montferland_. You really want to know everything about that---in your opinion---fantastic municipality, including the region name (\"region_name\" in the header of the CSV file). With the knowledge of the structure of CSV files described above, can you extend code block 3 so that you can find and print the region name of Montferland?\n"
   ]
  },
  {
   "cell_type": "code",
   "execution_count": 11,
   "metadata": {
    "collapsed": false
   },
   "outputs": [
    {
     "name": "stdout",
     "output_type": "stream",
     "text": [
      "municipality name: Montferland\n",
      "region name: Oost-Nederland\n"
     ]
    }
   ],
   "source": [
    "# Exercise 1: Printing the region name of the municipality of Montferland.\n",
    "\n",
    "import csv\n",
    "\n",
    "area_list = []\n",
    "\n",
    "with open('data/Areas_in_the_Netherlands.csv', mode='r') as f:\n",
    "    area_csv = csv.reader(f)\n",
    "    for record in area_csv:\n",
    "        area_list.append(record)\n",
    "\n",
    "montferland_data = [\n",
    "    info for area in area_list if \"Montferland\" in area for info in area]\n",
    "print(\n",
    "    f'municipality name: {montferland_data[0]}\\nregion name: {montferland_data[4]}')\n"
   ]
  },
  {
   "attachments": {},
   "cell_type": "markdown",
   "metadata": {
    "collapsed": false
   },
   "source": [
    "**[Exercise 2]** We are going to play _Word Chain_. Word Chain is a word game\n",
    "in which players come up with words that begin with the letter or letters that the previous word ended with. In this case,\n",
    "you give the first word using the input() function. The script then finds the last letter of that word and searches the\n",
    "`Random_Words.csv` worksheet for a word that starts with this last letter.\n",
    "\n",
    "Take a look at the CSV file, it is a file that contains 150 words: 15 rows of 10 columns each. Every \"cell\" is a random word. The output should look something like this:\n",
    "\n",
    "`Input: chris`\n",
    "`Chained word: sail`\n",
    "\n",
    "**[Bonus exercise 1]** Try to find the longest word in the csv file that starts with the last letter of the input word.\n"
   ]
  },
  {
   "cell_type": "code",
   "execution_count": 2,
   "metadata": {
    "collapsed": false
   },
   "outputs": [
    {
     "name": "stdout",
     "output_type": "stream",
     "text": [
      "Your word is i. \n",
      " We choose instant from ['into', 'instant', 'image'] for you!\n"
     ]
    }
   ],
   "source": [
    "# Exercise 2: CSV Word Chain\n",
    "import random\n",
    "import csv\n",
    "\n",
    "is_game_on = True\n",
    "current_word = \"\"\n",
    "\n",
    "with open(\"./data/Random_Words.csv\", \"r\") as file:\n",
    "    word_csv = csv.reader(file)\n",
    "    word_list = [word for words in word_csv for word in words]\n",
    "\n",
    "user_word = input(\"Give me a word: \")\n",
    "user_last_word = list(user_word)[-1]\n",
    "word_chain_list = [word for word in word_list if list(word)[\n",
    "    0] == user_last_word]\n",
    "current_word = random.choice(word_chain_list)\n",
    "print(\n",
    "    f\"Your word is {user_last_word}. \\nWe choose {current_word} from {word_chain_list} for you!\")\n"
   ]
  },
  {
   "attachments": {},
   "cell_type": "markdown",
   "metadata": {
    "collapsed": false
   },
   "source": [
    "Okay, so much for opening CSV files. In addition to opening, you sometimes also want to save files as a CSV file. How does saving work then?\n"
   ]
  },
  {
   "cell_type": "code",
   "execution_count": 1,
   "metadata": {
    "collapsed": false
   },
   "outputs": [
    {
     "name": "stdout",
     "output_type": "stream",
     "text": [
      "[['municipality_name', 'municipality_code', 'municipality_name_machine_friendly', 'region_id', 'region_name'], ['Aa en Hunze', 'GM1680', 'AaenHunze', 'RE01', 'Noord-Nederland']]\n"
     ]
    }
   ],
   "source": [
    "# Code block 4: Saving CSV files\n",
    "\n",
    "import csv\n",
    "\n",
    "# First, we load Areas_in_the_Netherlands.csv\n",
    "area_list = []\n",
    "\n",
    "with open('./data/Areas_in_the_Netherlands.csv', mode='r') as f:\n",
    "    area_csv = csv.reader(f)\n",
    "    for record in area_csv:\n",
    "        area_list.append(record)\n",
    "\n",
    "# Then, let's make a variable of the header and the first record (and print it)\n",
    "area_short = area_list[0:2]\n",
    "print(area_short)\n",
    "\n",
    "# And now, let's save our shortened information\n",
    "with open('./data/Areas_in_the_Netherlands_Short.csv', mode='w', newline='') as f:\n",
    "    writer = csv.writer(f)\n",
    "    # Iterate over every row in the area_short variable\n",
    "    for row in area_short:\n",
    "        writer.writerow(row)\n"
   ]
  },
  {
   "attachments": {},
   "cell_type": "markdown",
   "metadata": {
    "collapsed": false
   },
   "source": [
    "When we use the `with open()` function, two things deserve extra attention: when reading the files, we use the attribute `mode='r'`. That tells Python to open the file in read only mode. In that mode no changes can be made to the file. To be able to create a file, we use `mode='w'`. This mode let's us save files. There's also other modes that let us read and save files both, but I never really use that because if I make a mistake and accidentally save over my original file, I'll be sad. So best to avoid that risk as much as possible by using separate modes for both.\n",
    "\n",
    "We also use `newline=''` when saving a csv file. This is due to a sort-of bug with Python on some computers. On some computers an empty row would be added between each record in Python if we don't use this.\n",
    "\n",
    "You will now be able to find the saved file in the same folder where you opened this Worksheet. You can also open this in Excel to check whether everything is working properly. If you have opened the file in Excel, select all cells (Ctrl+A). Then go to `Data` at the top of the screen, then you will see `Text to columns` in the buttons drawer, on the right side. Click on that. You choose `Separated`, `Next`. With `Separators`, choose `comma`, and then `Finish`. Now, the CSV data is converted to an Excel-friendly format.\n"
   ]
  },
  {
   "attachments": {},
   "cell_type": "markdown",
   "metadata": {
    "collapsed": false
   },
   "source": [
    "**[Exercise 3]** Suppose you are going around asking all of your friends which party they are going to vote for during the elections. Because you keep going around asking boring questions like that, you only have three friends left. They gave you the following answers:\n",
    "\n",
    "| Name    | Date asked | Party           |\n",
    "| ------- | ---------- | --------------- |\n",
    "| Alfred  | March 9th  | OPA             |\n",
    "| Barbara | March 9th  | 50PLUS          |\n",
    "| Roland  | March 7th  | Senioren Belang |\n",
    "\n",
    "Save this information as a .csv file in the same folder as the Worksheet.\n"
   ]
  },
  {
   "cell_type": "code",
   "execution_count": 25,
   "metadata": {
    "collapsed": false
   },
   "outputs": [],
   "source": [
    "# Exercise 3: Saving your friends' party preferences\n",
    "pt_string = \"| Alfred  | March 9th  | OPA             || Barbara | March 9th  | 50PLUS          |Roland  | March 7th  | Senioren Belang |\"\n",
    "origin_data = [n.strip() for n in pt_string.split(\"|\") if n.strip()]\n",
    "temp = []\n",
    "new_data = []\n",
    "\n",
    "for n in origin_data:\n",
    "    temp.append(n)\n",
    "    if len(temp) == 3:\n",
    "        new_data.append(temp)\n",
    "        temp = []\n",
    "\n",
    "\n",
    "with open(\"./friends_party_data.csv\", mode=\"w\", newline='') as file:\n",
    "    writer = csv.writer(file)\n",
    "    for row in new_data:\n",
    "        writer.writerow(row)\n"
   ]
  },
  {
   "attachments": {},
   "cell_type": "markdown",
   "metadata": {
    "collapsed": false
   },
   "source": [
    "## Opening, modifying, and saving JSON (.json) files\n",
    "\n",
    "Okay, we're almost there. One more data structure to go and it should look familiar to you. We have already worked with dictionaries and lists and JSON files are just that, saved as a file. First, loading the files. For this we use `indy.json`, which you can find on Canvas. Put this file in the same folder as this Worksheet.\n"
   ]
  },
  {
   "cell_type": "code",
   "execution_count": null,
   "metadata": {
    "collapsed": false
   },
   "outputs": [],
   "source": [
    "# Code block 5: Opening a JSON file\n",
    "import json\n",
    "\n",
    "with open('./indy.json', 'r') as infile:\n",
    "    indy_data = json.load(infile)\n"
   ]
  },
  {
   "attachments": {},
   "cell_type": "markdown",
   "metadata": {
    "collapsed": false
   },
   "source": [
    "And now the file is loaded as a dictionary, to which we can apply our knowledge about dictionaries to work with the file. As said in the video lecture, JSON files are just lists and/or dictionaries in disguise.\n",
    "\n",
    "If we want to save a JSON file, we can do that as follows.\n"
   ]
  },
  {
   "cell_type": "code",
   "execution_count": null,
   "metadata": {
    "collapsed": false
   },
   "outputs": [],
   "source": [
    "# Code block 6: Saving a JSON file\n",
    "\n",
    "# We load the file just like in code block 10\n",
    "import json\n",
    "\n",
    "with open('./indy.json', 'r') as infile:\n",
    "    indy_data = json.load(infile)\n",
    "\n",
    "# We take the first movie from our JSON-file\n",
    "indy_first = indy_data['indy movies'][0]\n",
    "print(indy_first)\n",
    "\n",
    "# And save this as a new JSON-bestand\n",
    "with open('./firstindy.json', 'w') as outfile:\n",
    "    json.dump(indy_first, outfile, separators=(',', ': '), indent=4)\n"
   ]
  },
  {
   "attachments": {},
   "cell_type": "markdown",
   "metadata": {
    "collapsed": false
   },
   "source": [
    "We add some extra information to the `json.dump()` function. First, we specify the information we want to write (the `indy_first` variable), then the file we want to write it to (`outfile`, which actually passes on the information from `'./firstindy.json'`). The `separators` indicate how we want to separate the information. Here you mainly use the `',', ': '` that you see. This keeps the file similar to a dictionary. Finally, we use `indent=4`. This is the indentation that is applied, so that it all remains a little clearer for you as a human being if you want to read the JSON file in Notepad (or a variant thereof).\n"
   ]
  },
  {
   "cell_type": "markdown",
   "metadata": {
    "collapsed": false
   },
   "source": [
    "---\n",
    "\n",
    "**[Exercise 4]** To get in the mood to vote (for the people who are allowed to vote in the Provincial States, if you feel left out, I'm sorry :( ), I have collected the municipality election results from 2018 and have created two JSON files with voter turnout numbers. These JSON files contain the number of votes for 10 random municipalities in the Gelderland province (_Gelderland.json_) and the Noord-Brabant province (_Noord_Brabant.json_). Furthermore, I have only included the results for 4 of the biggest parties in the Netherlands to keep the file somewhat comprehensible: _D66_, _VVD_, _CDA_ and _PvdA_.\n",
    "\n",
    "Write a script that loads the JSON file, and prints the highest, lowest, and average number of votes for each province.\n",
    "The output should look something like this:\n",
    "\n",
    "`Gelderland`\n",
    "`CDA: min 1026, max 7421, average 3022.4`\n",
    "`VVD: min 955, max 8019, average 3020.6`\n",
    "`D66: min 710, max 8013, average 2378.7`\n",
    "`PvdA: min 524, max 5401, average 1844.6`\n",
    "`Noord-Brabant`\n",
    "`CDA: min 1065, max 10631, average 4181.0`\n",
    "`VVD: min 995, max 17503, average 5154.7`\n",
    "`D66: min 635, max 9918, average 3568.2`\n",
    "`PvdA: min 563, max 10180, average 2748.5`\n",
    "\n",
    "**[Bonus exercise 2]** Save the output as a nicely formatted CSV file.\n"
   ]
  },
  {
   "cell_type": "code",
   "execution_count": 44,
   "metadata": {
    "collapsed": false
   },
   "outputs": [
    {
     "name": "stdout",
     "output_type": "stream",
     "text": [
      "CDA: min 1026, max 7421, average 3022.4\n",
      "VVD: min 955, max 8019, average 3020.6\n",
      "D66: min 710, max 8013, average 2378.7\n",
      "PvdA: min 524, max 5401, average 1844.6\n"
     ]
    }
   ],
   "source": [
    "# Exercise 4: Voter turnout numbers\n",
    "import os\n",
    "import csv\n",
    "import json\n",
    "\n",
    "with open('./data/Gelderland.json', 'r') as infile:\n",
    "    gelderland_data = json.load(infile)\n",
    "\n",
    "def create_list(key):\n",
    "    data = [n[key] for n in gelderland_data]\n",
    "    data_min = min(data)\n",
    "    data_max = max(data)\n",
    "    data_avr = round((sum(data)/len(data)), 2)\n",
    "    msg = f\"{key}: min {data_min}, max {data_max}, average {data_avr}\"\n",
    "    return msg\n",
    "\n",
    "keys = list(gelderland_data[0])\n",
    "\n",
    "for key in keys:\n",
    "    print(create_list(key))\n",
    "\n"
   ]
  },
  {
   "cell_type": "markdown",
   "metadata": {
    "collapsed": false
   },
   "source": [
    "**[Exercise 5]** For Exercise 2, you have used a CSV file that contains random words (`Random_Words.csv`). Create and save a JSON file where all these words are ordered by their first letter (in alphabetical order).\n",
    "You can find an example of what the output should look like on Canvas (`Worksheet_6_Exercise_5.json`)\n",
    "\n",
    "**Hint**: You may start with a dictionary that already contains all the letters in the alphabet, as is shown in the code below (the alphabetdict variable that is commented out).\n",
    "\n",
    "**[Bonus Exercise 3]** Do not use the alphabetdict, but try to find a clever way to create this dictionary structure from an empty dictionary (and sort it alphabetically). Also, order the words per letter from smallest to largest. You can find an example of what the output should look like on Canvas (`Worksheet_6_Bonus_3.json`)\n"
   ]
  },
  {
   "cell_type": "code",
   "execution_count": 67,
   "metadata": {
    "collapsed": false
   },
   "outputs": [
    {
     "name": "stdout",
     "output_type": "stream",
     "text": [
      "{'a': ['actual', 'agree', 'air', 'already', 'another', 'available'], 'b': ['basic', 'bet', 'better', 'beyond', 'body', 'both', 'breakfast', 'breathe', 'bright', 'broke', 'business', 'butter'], 'c': ['calm', 'came', 'case', 'center', 'character', 'chest', 'city', 'club', 'cold', 'count', 'cutting'], 'd': ['dance', 'danger', 'distant', 'draw', 'duck', 'during', 'duty'], 'e': ['easily', 'education', 'effect', 'engineer', 'event', 'exist'], 'f': ['facing', 'factor', 'famous', 'far', 'flat', 'fly', 'foot', 'freedom', 'friend', 'front'], 'g': ['gate', 'gather', 'give', 'greatly', 'greatly', 'grown', 'growth', 'growth', 'guess'], 'h': ['had', 'handle', 'has', 'hay', 'health', 'highway', 'hospital', 'huge'], 'i': ['image', 'instant', 'into'], 'j': ['judge'], 'k': ['known'], 'l': ['leg', 'letter', 'line', 'location', 'love', 'lungs'], 'm': ['machine', 'material', 'material', 'mix', 'month', 'mood', 'morning', 'most', 'must'], 'n': ['neighborhood', 'no'], 'o': ['official', 'onto', 'open'], 'p': ['package', 'partly', 'period', 'picture', 'pitch', 'planet', 'planning', 'plate', 'play', 'pony', 'practice', 'push'], 'q': ['quest'], 'r': ['raise', 'rest', 'review', 'ride', 'root', 'run', 'run'], 's': ['said', 'sail', 'science', 'section', 'sent', 'serve', 'serve', 'sharp', 'shelter', 'shut', 'shut', 'slept', 'smell', 'smile', 'society', 'southern', 'spider', 'station', 'suit', 'support', 'surface', 'symbol'], 't': ['then', 'think', 'thousand', 'three', 'three', 'thrown', 'till', 'tobacco', 'trunk', 'truth'], 'u': ['unknown'], 'v': ['value'], 'w': ['whistle', 'white', 'white', 'white', 'whose', 'wide', 'wind', 'word', 'written'], 'x': ['xerox'], 'y': ['your'], 'z': ['zeal']}\n"
     ]
    }
   ],
   "source": [
    "# Exercise 3: Ordering the Word CSV\n",
    "import os\n",
    "import json\n",
    "import csv\n",
    "\n",
    "with open(\"./data/Random_Words.csv\") as file:\n",
    "    words_data = csv.reader(file)\n",
    "    word_list = [w for data in words_data for w in data]\n",
    "\n",
    "total_dict={}\n",
    "\n",
    "for word in word_list:\n",
    "    letter = list(word)[0]\n",
    "    if letter not in total_dict:\n",
    "       total_dict[letter] = [word]\n",
    "    else:\n",
    "        total_dict[letter].append(word)\n",
    "\n",
    "new_dict = dict(sorted(total_dict.items())) \n",
    "\n",
    "for key in new_dict:\n",
    "    new_dict[key].sort()\n",
    "\n",
    "print(new_dict)"
   ]
  },
  {
   "cell_type": "markdown",
   "metadata": {
    "collapsed": false
   },
   "source": [
    "That is all! If you run into any issues, do not forget to ask about this on the Discussion board, or during the Practical session!\n",
    "\n",
    "## Saving & Submitting\n",
    "\n",
    "Jupyter Notebook files save your work automatically. So you can hand in the file that you are currently looking at. If you don't want to take any risks, you can also use \"Save As\" to save a copy of the notebook. In any case, submit the Worksheet **via Canvas, Assignments**. Submission date: **22 March (23:59)**.\n",
    "\n",
    "## Skills & Further Resources\n",
    "\n",
    "This worksheet was about opening, modifying, and saving CSV/JSON files using Python.\n",
    "\n",
    "After working through it, you should be able to:\n",
    "\n",
    "1. understand how to open, modify, and save a CSV file\n",
    "2. understand how to open, modify, and save a JSON file\n",
    "\n",
    "If you want a bit more information on some of these topics, besides the chapters in Automate the Boring Stuff, I recommend:\n",
    "\n",
    "- How to Read and Write With CSV Files in Python: Ultimate Guide to Working With CSV Files in Data Science, by Harika Bonthu on [https://www.analyticsvidhya.com/blog/2021/08/python-tutorial-working-with-csv-file-for-data-science/](https://www.analyticsvidhya.com/blog/2021/08/python-tutorial-working-with-csv-file-for-data-science/)\n",
    "- The easy way to work with CSV, JSON, and XML in Python, by George Seif on: [https://towardsdatascience.com/the-easy-way-to-work-with-csv-json-and-xml-in-python-5056f9325ca9](https://towardsdatascience.com/the-easy-way-to-work-with-csv-json-and-xml-in-python-5056f9325ca9) (if you can't read the text on this website, try to open it in an incognito window).\n",
    "\n",
    "## Overview of new information\n",
    "\n",
    "| Python Code     |     does what     |\n",
    "| --------------- | :---------------: |\n",
    "| `csv.reader(f)` |  Read a CSV file  |\n",
    "| `csv.writer()`  | Write a CSV file  |\n",
    "| `json.load()`   | Read a JSON file  |\n",
    "| `json.dump()`   | Write a JSON file |\n"
   ]
  }
 ],
 "metadata": {
  "kernelspec": {
   "display_name": "Python 3",
   "language": "python",
   "name": "python3"
  },
  "language_info": {
   "codemirror_mode": {
    "name": "ipython",
    "version": 3
   },
   "file_extension": ".py",
   "mimetype": "text/x-python",
   "name": "python",
   "nbconvert_exporter": "python",
   "pygments_lexer": "ipython3",
   "version": "3.9.13"
  }
 },
 "nbformat": 4,
 "nbformat_minor": 0
}
