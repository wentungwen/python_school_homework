{
 "cells": [
  {
   "cell_type": "markdown",
   "metadata": {
    "collapsed": false
   },
   "source": [
    "# Worksheet 3: Fun with Games\n",
    "\n",
    "The day that I'm publishing this worksheet, what Americans call \"the game\" (i.e., the Superbowl) is going to be played. So in a very far-fetched way, I thought making a worksheet about games is somewhat thematically relevant. :)"
   ]
  },
  {
   "cell_type": "markdown",
   "metadata": {
    "collapsed": false
   },
   "source": [
    "Remember: Google is your friend! Functions are explained in more detail (amongst others) on the Python website, and the website \"Stackoverflow.com\" probably has the answer to all your issues. So if you add \"site:stackoverflow.com\" to your Google query, you should be able to find someone who was experiencing a similar issue, and the way to solve it."
   ]
  },
  {
   "cell_type": "markdown",
   "metadata": {
    "collapsed": false
   },
   "source": [
    "## String manipulation\n",
    "\n",
    "In the video lecture, we started by discussing how you can modify strings, even though they are immutable. But, there are still ways we can twiddle around with strings to our heart's content. Let's see how."
   ]
  },
  {
   "cell_type": "code",
   "execution_count": null,
   "metadata": {
    "collapsed": false
   },
   "outputs": [],
   "source": [
    "## Code block 1: Modifying the unmodifyable\n",
    "\n",
    "# Lists and dicts are mutable\n",
    "examplelist1 = ['Hi', 'How', 'Are']\n",
    "# You can change them without having to redefine the variable\n",
    "examplelist1.append('You')\n",
    "print(examplelist1)\n",
    "\n",
    "# With strings, you can't do that\n",
    "examplestring1 = 'Hi, how are '\n",
    "examplestring1 + 'you'\n",
    "print(examplestring1)\n",
    "\n",
    "# So you have to create a new variable where we incorporate the previous variable\n",
    "examplestring2 = examplestring1 + 'you'\n",
    "print(examplestring2)\n",
    "\n",
    "# Another way we can use arithmetic operators on strings\n",
    "examplestring3 = 'Ciao '\n",
    "# And then we can also just redefine the same variable, as long as we explicitly define the variable\n",
    "examplestring3 = examplestring3 * 2\n",
    "print(examplestring3)"
   ]
  },
  {
   "cell_type": "markdown",
   "metadata": {
    "collapsed": false
   },
   "source": [
    "So basically, when a string has been assigned to a variable, we cannot modify the string inside that variable, unless we redefine that variable with the new string we want, or when we assign the new string we want to a new variable. For lists and dicts, that is not necessary. We can just make changes to the lists inside a variable freely. Last week, you also had to go out and find list and dict methods which can aid with modification. Similarly, strings can be modified using [string methods](https://www.w3schools.com/python/python_ref_string.asp)."
   ]
  },
  {
   "cell_type": "markdown",
   "metadata": {
    "collapsed": false
   },
   "source": [
    "**[Exercise 1]** Can you, using the list methods described in the URL above, modify the variables in the code block as follows:\n",
    "\n",
    "- \"Change\" `gamevariable1` to all caps\n",
    "- \"Change\" `gamevariable2` to make the first letter of every word upper case.\n",
    "- \"Change\" `gamevariable3` to a list where each word of the string is a separate item in the list\n",
    "- \"Change\" `gamevariable4` to a string where the items of the list are joined together with a colon+whitespace (\": \")\n",
    "\n",
    "So the output becomes as follows:\n",
    "\n",
    "`PARKS`\n",
    "`Great Western Trail`\n",
    "`['The', 'Settlers', 'of', 'Catan']`\n",
    "`Ticket to Ride: Europe`\n",
    "\n",
    "Make sure the modified output is stored in variables first, before printing the output."
   ]
  },
  {
   "cell_type": "code",
   "execution_count": null,
   "metadata": {
    "collapsed": false,
    "pycharm": {
     "is_executing": true
    }
   },
   "outputs": [],
   "source": [
    "## Exercise 1: Modify board game names\n",
    "gamevariable1 = 'parks'\n",
    "gamevariable2 = 'great western trail'\n",
    "gamevariable3 = 'The Settlers of Catan'\n",
    "gamevariable4 = ['Ticket to Ride', 'Europe']\n",
    "\n",
    "gamevariable4_m = ''\n",
    "for n in range(len(gamevariable4)):\n",
    "    gamevariable4_m += \" \" + gamevariable4[n]\n",
    "\n",
    "\n",
    "print(gamevariable1.upper(), gamevariable2.title(), gamevariable3.split(), gamevariable4_m)"
   ]
  },
  {
   "cell_type": "markdown",
   "metadata": {
    "collapsed": false
   },
   "source": [
    "## Membership test operators\n",
    "\n",
    "Another thing that was discussed during the video lecture, are the membership test operators. They add more functionality on top of the comparison operators (e.g., `>`, `<`, `==`) that we have seen before. We could also use some string methods described in the URL above as membership test operators."
   ]
  },
  {
   "cell_type": "code",
   "execution_count": null,
   "metadata": {
    "collapsed": false
   },
   "outputs": [],
   "source": [
    "## Code block 3: Membership test operations\n",
    "\n",
    "exampleword1 = 'catan'\n",
    "\n",
    "#Check if combination of letters is in string\n",
    "if 'cat' in exampleword1:\n",
    "    print('Found a cat!')\n",
    "else:\n",
    "    print('Not a cat!')\n",
    "\n",
    "if 'dog' not in exampleword1:\n",
    "    print('No dogs found!')\n",
    "else:\n",
    "    print('Found a dog!')\n",
    "\n",
    "if exampleword1.endswith('an'):\n",
    "    print('Found a determiner')\n",
    "else:\n",
    "    print('No determiners found')"
   ]
  },
  {
   "cell_type": "markdown",
   "metadata": {
    "collapsed": false
   },
   "source": [
    "Additionally, we have added `and` and `or` operators, which can enrich both comparison, as well as membership test operators. Let's check that out in the following exercise.\n",
    "\n",
    "**[Exercise 2]** Why does the first part of the code block return `True` while the second part returns `False`? Explain your answer in comments (`#`) at the bottom of the code block."
   ]
  },
  {
   "cell_type": "code",
   "execution_count": null,
   "metadata": {
    "collapsed": false
   },
   "outputs": [],
   "source": [
    "## Exercise 2: Difference between \"and\" and \"or\"\n",
    "\n",
    "gamevariable5 = 'wingspan'\n",
    "\n",
    "# PART 1\n",
    "print('Part 1:')\n",
    "if 'wing' or 'bird' in gamevariable5:\n",
    "    print(True)\n",
    "else:\n",
    "    print(False)\n",
    "\n",
    "print('')\n",
    "\n",
    "# PART 2\n",
    "print('Part 2:')\n",
    "if 'wing' and 'bird' in gamevariable5:\n",
    "    print(True)\n",
    "else:\n",
    "    print(False)\n",
    "\n",
    "# part 1 contains wing, which match (if 'wing' or 'bird')\n",
    "# part 2 contains wing but no bird, which doesn't match (if 'wing' and 'bird')"
   ]
  },
  {
   "cell_type": "markdown",
   "metadata": {
    "collapsed": false
   },
   "source": [
    "[Exercise 3] Ubbi Dubbi is a language game ( https://en.wikipedia.org/wiki/Ubbi_dubbi ), where every vowel (_a_, _e_, _i_, _o_, or _u_) is prefaced with _ub_. Thus horn becomes huborn (h-ub-orn) and parachute becomes pubarubachubutube (p-ub-ar-ub-a-ch-ub-ut-ub-e). Write a script that translates a word into Ubbi Dubbi: it gives the word’s translation into Ubbi Dubbi as output. You start with `testvariable = \"fish\"`, for example, and print `fubish`.\n",
    "\n",
    "Preface each vowel with _ub_, even if there is more than one vowel next to each other. Thus, _speak_ will become _spubeubak_. It is fine to assume that every word is lowercase here.\n",
    "\n",
    "**Hint:** you can convert a word to a list of individual characters by using the `list()` function.\n",
    "\n",
    "**[Bonus exercise 1]** Now make a new and improved version of Ubbi Dubbi that only uses _ub_ before the first vowel in a combination of vowels. Thus, _speak_ will not become _spubeubak_, but _spubeak_. And _beautiful_ becomes _bubeautubifubul_. It still takes a single word as input, and it is fine to assume that every word just consists of lowercase letters in the alphabet.\n",
    "\n",
    "**[Bonus exercise 2]** Make an even more improved version of Ubbi Dubbi, that can take a whole sentence as input including numbers and punctuation, and also takes uppercase into account so that a word like _Elephant_ becomes _Ubelubephubant_."
   ]
  },
  {
   "cell_type": "code",
   "execution_count": null,
   "metadata": {
    "collapsed": false,
    "pycharm": {
     "is_executing": true
    }
   },
   "outputs": [],
   "source": [
    "## Exercise 3: Ubbi Dubbi\n",
    "vowels = [\"a\", \"i\", \"e\", \"o\", \"u\"]\n",
    "testvariable = \"fishu\"\n",
    "\n",
    "var_vowels = list(testvariable)\n",
    "new_vowels = []\n",
    "new_words = ''\n",
    "for vowel in var_vowels:\n",
    "    if vowel in vowels:\n",
    "        vowel += \"ub\"\n",
    "    new_vowels.append(vowel)\n",
    "\n",
    "for vowel in new_vowels:\n",
    "    new_words += vowel\n",
    "\n",
    "print(new_words)"
   ]
  },
  {
   "cell_type": "code",
   "execution_count": 3,
   "metadata": {},
   "outputs": [
    {
     "name": "stdout",
     "output_type": "stream",
     "text": [
      "Thuberube ubis _12_ bubeautubifubul trubee:)\n"
     ]
    }
   ],
   "source": [
    "## Exercise 3: Bonus 1\n",
    "vowels = [\"a\", \"i\", \"e\", \"o\", \"u\"]\n",
    "testvariable = \"There is _12_ beautiful tree:)\"\n",
    "\n",
    "var_vowels = list(testvariable)\n",
    "new_list = []\n",
    "new_word = \"\"\n",
    "for idx, letter in enumerate(var_vowels):\n",
    "    if letter in vowels and var_vowels[idx-1] not in vowels:\n",
    "        letter = \"ub\"+letter\n",
    "    new_list.append(letter)\n",
    "\n",
    "for letter in new_list:\n",
    "    new_word += letter\n",
    "\n",
    "print(new_word)"
   ]
  },
  {
   "cell_type": "code",
   "execution_count": null,
   "metadata": {},
   "outputs": [],
   "source": [
    "## Exercise 3: Bonus 2\n",
    "# The previous code with no problem to handle sentence input."
   ]
  },
  {
   "cell_type": "markdown",
   "metadata": {
    "collapsed": false
   },
   "source": [
    "## Regular Expressions\n",
    "\n",
    "The video lecture also discussed Regular Expressions: a programming language inside a programming language, basically. With regular expressions you can search within strings, and make modifications in a similar way as we have discussed with strings. If you feel intimidated by having to work with another \"programming language\", rest assured as in most cases it is not necessary to use regular expressions. Generally, string methods work well enough to do whatever you want, but sometimes regular expressions are a bit more powerful which makes it more efficient to use them. Let's take a look how they compare."
   ]
  },
  {
   "cell_type": "code",
   "execution_count": null,
   "metadata": {
    "collapsed": false,
    "pycharm": {
     "is_executing": true
    }
   },
   "outputs": [],
   "source": [
    "## Code block 4: Comparing string and Regular Expressions\n",
    "\n",
    "import re\n",
    "\n",
    "gamevariable6 = \"Gloomhaven\"\n",
    "\n",
    "# Use string method to find the start idx of the substring \"haven\"\n",
    "print('String find:')\n",
    "startindex1 = gamevariable6.find('haven')\n",
    "print(startindex1)\n",
    "print('')\n",
    "\n",
    "# Use regular expressions to find the start idx of the substring \"haven\"\n",
    "print('Regular expression find:')\n",
    "startindex2 = re.search('haven', gamevariable6)\n",
    "startindex2start = startindex2.start()\n",
    "print(startindex2, startindex2start)\n",
    "print('')\n",
    "\n",
    "# Use string method to replace the substring \"haven\" for \" of Kilforth\"\n",
    "print('String replace:')\n",
    "replacestring1 = str.replace(gamevariable6, 'haven', ' of Kilforth')\n",
    "print(replacestring1)\n",
    "print('')\n",
    "\n",
    "# Use regular expressions to replace the substring \"haven\" for \" of Kilforth\"\n",
    "print('Regular expression replace:')\n",
    "replacestring2 = re.sub('haven', ' of Kilforth', gamevariable6)\n",
    "print(replacestring2)\n",
    "\n",
    "print('')\n",
    "\n",
    "# Finding more complex patterns can only be done (in a relatively straightforward way) using regular expressions\n",
    "print('Games with more than two vowels in a row:')\n",
    "gamelist = ['Gloomhaven', 'Ark Nova', 'Gaia Project', 'Twilight Struggle']\n",
    "# Iterate over games\n",
    "for game in gamelist:\n",
    "    #If the game contains more than 2 vowels in a row, we print the game\n",
    "    if re.search(r'[aeiou]{2}', game):\n",
    "        print(game)"
   ]
  },
  {
   "cell_type": "markdown",
   "metadata": {
    "collapsed": false
   },
   "source": [
    "**[Exercise 4]** You are in the market to buy an expansion pack for the game \"Munchkin\", called \"Munchkin Zombies: The Walking Dead\", and you wish to develop an automated web searching program (a spider) to search daily through various classified ad websites to find text containing words that indicate that the advertisement is about that specific board game, followed by a price. Specifically:\n",
    "- Match the word \"Munchkin\"\n",
    "- Match the phrase (\"The Walking Dead\"/\"Walking Dead\")\n",
    "\n",
    "After the word \"Munchkin\" and the phrase \"The Walking Dead\", the text should also contain a price, expressed as a dollar amount. More specifically:\n",
    "- A dollar amount starts with a dollar-sign\n",
    "- Followed by an optional space\n",
    "- Followed by a floating-point number. The floating-point number has a decimal point and 2 digits following it.\n",
    "\n",
    "Write a script that takes a text as input, using the `input()` function. This text represents the classified ad. Then, if this text seems to be a classified ad for \"Munchkin Zombies: The Walking Dead\" according to the specifications given above, report that, and the price that you found. If it does not seem to be such a classified ad, report that you did not find anything. The output should look something like this:\n",
    "\n",
    "`Input: For sale! Munchkin extension The Walking Dead. Good as new. Asking price: $10.50; serious offers only.`\n",
    "`Munchkin Zombies: The Walking Dead is offered for $10.50.`"
   ]
  },
  {
   "cell_type": "code",
   "execution_count": null,
   "metadata": {
    "collapsed": false
   },
   "outputs": [],
   "source": [
    "## Exercise 4: Web Spider\n",
    "\n",
    "import re\n",
    "\n",
    "print(\"'Munchkin and The Walkng Dead/ Walking Dead is $ 13.33'\")\n",
    "selected_word = input(\"Input the content or use the paragraph above: \")\n",
    "\n",
    "\n",
    "if re.search(r'^(?=.*\\b(m|M)unchkin\\b)(?=.*\\b(W|w)alking (d|D)ead\\b)(?=.*\\$\\s?\\d{2}.\\d{2}).*$', selected_word):\n",
    "    print(\"Yes. the product you're looking for is here!\")\n",
    "else:\n",
    "    print(\"None of the products be found.\")\n"
   ]
  },
  {
   "cell_type": "markdown",
   "metadata": {
    "collapsed": false
   },
   "source": [
    "That is all! If you run into any issues, do not forget to ask about this on the Discussion board, or during the Practical session!\n",
    "\n",
    "## Saving & Submitting\n",
    "\n",
    "Jupyter Notebook files save your work automatically. So you can hand in the file that you are currently looking at. If you don't want to take any risks, you can also use \"Save As\" to save a copy of the notebook. In any case, submit the Worksheet **via Canvas, Assignments**. Submission date: **1 March (23:59)**.\n",
    "\n",
    "## Skills & Further Resources\n",
    "\n",
    "This worksheet was about the modification of strings and using regular expressions in Python.\n",
    "\n",
    "After working through it, you should be able to:\n",
    "\n",
    "1. Understand how to modify \"immutable\" strings\n",
    "2. Use string methods\n",
    "3. Understand how membership test operators work and be able to apply them\n",
    "4. Understand in what ways regular expressions differ from strings\n",
    "5. Modify strings and retrieve substrings using regular expressions\n",
    "\n",
    "If you want a bit more information on some of these topics, besides the chapters in Automate the Boring Stuff, I recommend:\n",
    "\n",
    "- Regular Expressions in Python on https://datacamp.com\n",
    "- Python String Tutorial on https://datacamp.com\n",
    "\n",
    "## Overview of New Information\n",
    "\n",
    "| Python Code                                                              |                                                                    does what                                                                     |\n",
    "|--------------------------------------------------------------------------|:------------------------------------------------------------------------------------------------------------------------------------------------:|\n",
    "| [String methods](https://www.w3schools.com/python/python_ref_string.asp) |                                                   Built-in methods that you can use on strings                                                   |\n",
    "| `in`, `not in`, `.startswith()`, `.endswith()`, `and`, `or`              |                                                            Membership test operators                                                             |\n",
    "| [Regular expressions](https://www.w3schools.com/python/python_regex.asp) | A sequence of characters that forms a search pattern. Regular Expressions can be used to check if a string contains the specified search pattern |"
   ]
  }
 ],
 "metadata": {
  "kernelspec": {
   "display_name": "base",
   "language": "python",
   "name": "python3"
  },
  "language_info": {
   "codemirror_mode": {
    "name": "ipython",
    "version": 3
   },
   "file_extension": ".py",
   "mimetype": "text/x-python",
   "name": "python",
   "nbconvert_exporter": "python",
   "pygments_lexer": "ipython3",
   "version": "3.9.13"
  },
  "vscode": {
   "interpreter": {
    "hash": "35cee20db335b827e2ae064625f84a609e5aba30ab196e5a7d29a850ee71e3d2"
   }
  }
 },
 "nbformat": 4,
 "nbformat_minor": 0
}
