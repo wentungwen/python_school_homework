{
 "cells": [
  {
   "cell_type": "markdown",
   "metadata": {
    "collapsed": true,
    "pycharm": {
     "name": "#%% md\n"
    }
   },
   "source": [
    "# Test Exam\n",
    "\n",
    "Welcome to the test exam. It should give you a good idea of what the real exam will look like. So good luck! Hope it all will go well. :)"
   ]
  },
  {
   "cell_type": "markdown",
   "metadata": {
    "collapsed": false
   },
   "source": [
    "---\n",
    "[Question 1a] (10 points). The following function is supposed to receive a list with numbers and return this list without\n",
    "numbers higher than or equal to 10. For example `remove_numbers_higher_than_ten([1, 1, 32, 3, 5, 8, 10, 13, 21, 34, 55, 89])` returns\n",
    "`[1,1,3,5,8]`. But the function has 2 errors in it. Correct the code so that it can run as specified."
   ]
  },
  {
   "cell_type": "code",
   "execution_count": 61,
   "metadata": {
    "collapsed": false,
    "pycharm": {
     "name": "#%%\n"
    }
   },
   "outputs": [
    {
     "data": {
      "text/plain": [
       "[1, 1, 3, 5, 8]"
      ]
     },
     "execution_count": 61,
     "metadata": {},
     "output_type": "execute_result"
    }
   ],
   "source": [
    "def remove_numbers_higher_than_ten(numbers):\n",
    "    output = [i for i in numbers if i < 10]\n",
    "    return output\n",
    "\n",
    "remove_numbers_higher_than_ten([1, 1, 32, 3, 5, 8, 10, 13, 21, 34, 55, 89])"
   ]
  },
  {
   "cell_type": "markdown",
   "metadata": {
    "collapsed": false
   },
   "source": [
    "---\n",
    "[Question 1b] (10 points). The following function is supposed to receive a non-empty list of numbers, and return all the\n",
    "odd numbers in the list (that is: all the values that are odd). For example, `get_odd_numbers([1,3,4,7,2,9,11])` should\n",
    "return `[1,3,7,9,11]`. But the function is not working properly. Change the code so that it returns the correct value."
   ]
  },
  {
   "cell_type": "code",
   "execution_count": 9,
   "metadata": {
    "collapsed": false,
    "pycharm": {
     "name": "#%%\n"
    }
   },
   "outputs": [
    {
     "data": {
      "text/plain": [
       "[1, 3, 7, 9, 11]"
      ]
     },
     "execution_count": 9,
     "metadata": {},
     "output_type": "execute_result"
    }
   ],
   "source": [
    "def get_odd_numbers(numbers):\n",
    "    oddNumbers = []\n",
    "    for i in numbers:\n",
    "        if i % 2 !=0:\n",
    "            oddNumbers.append(i)\n",
    "    return oddNumbers\n",
    "\n",
    "get_odd_numbers([1,3,4,7,2,9,11])"
   ]
  },
  {
   "cell_type": "markdown",
   "metadata": {
    "collapsed": false
   },
   "source": [
    "---\n",
    "[Question 2a] (10 points). The following function receives one parameter `json_file_name` which is the name of the JSON file\n",
    "that contains a list of words. It should return a string: the words in the JSON file together, separated by whitespaces,\n",
    "in the same order as they appear in the lexicon file."
   ]
  },
  {
   "cell_type": "code",
   "execution_count": 15,
   "metadata": {
    "collapsed": false,
    "pycharm": {
     "name": "#%%\n"
    }
   },
   "outputs": [
    {
     "data": {
      "text/plain": [
       "'hello this is the sentence hope you like it '"
      ]
     },
     "execution_count": 15,
     "metadata": {},
     "output_type": "execute_result"
    }
   ],
   "source": [
    "import json \n",
    "\n",
    "def read_json(json_file_name):\n",
    "    #FILL-IN: open the input file ‘json_file_name’\n",
    "\t#FILL-IN: read the content of the file\n",
    "\tdata = json.load(open(json_file_name))\n",
    "\t#FILL-IN: return the string of the words, merged together\n",
    "\tsentence = \"\"\n",
    "\tfor n in data:\n",
    "\t\tsentence+= n+\" \"\n",
    "\treturn sentence\n",
    "\n",
    "\n",
    "read_json(\"SentenceJSON.json\")"
   ]
  },
  {
   "cell_type": "markdown",
   "metadata": {
    "collapsed": false
   },
   "source": [
    "For example, `read_json(\"./SentenceJSON.json\")` returns `\"hello this is the sentence hope you like it\"`\n",
    "\n",
    "---\n",
    "[Question 2b] (10 points). The following function receives one parameter `text_file_name` which is the name of the .txt file\n",
    "that contains words, each word is on a different line: they are separated by a newline. The function should return a string:\n",
    "the words in the .txt file, with the first letter of each word capitalized, and each letter separated by a comma rather than a newline.\n",
    "The output should be in the same order as they appear in the lexicon file."
   ]
  },
  {
   "cell_type": "code",
   "execution_count": 19,
   "metadata": {
    "collapsed": false,
    "pycharm": {
     "name": "#%%\n"
    }
   },
   "outputs": [
    {
     "data": {
      "text/plain": [
       "'These, Are, The, Words, We, Want'"
      ]
     },
     "execution_count": 19,
     "metadata": {},
     "output_type": "execute_result"
    }
   ],
   "source": [
    "def read_text(text_file_name):\n",
    "    #FILL-IN: open the input file ‘text_file_name’\n",
    "\t#FILL-IN: read the content of the file\n",
    "\twith open(text_file_name) as f:\n",
    "\t\tlines = [n.strip().title() for n in f.readlines()]\n",
    "\n",
    "\t#FILL-IN: return the string of the words, separated by a comma\n",
    "\tsentence = \", \".join(lines)\n",
    "\treturn sentence\n",
    "\n",
    "read_text(\"SentenceTXT.txt\")\n",
    "\n",
    "\n"
   ]
  },
  {
   "cell_type": "markdown",
   "metadata": {
    "collapsed": false
   },
   "source": [
    "For example, `read_text(\"./SentenceTXT.txt\")` returns `\"These, Are, The, Words, We, Want\"`\n",
    "\n",
    "---\n",
    "[Question 2c] (10 points). Wokkie Tokkie is a language game, originally from a Dutch TV show: https://www.youtube.com/watch?v=uQf88h1ludk .\n",
    "You translate words into a \"secret language\" using two rules.\n",
    "\n",
    "1) Vowels get translated to a number:\n",
    "\n",
    "- The \"a\" becomes `1`\n",
    "- The \"e\" becomes `2`\n",
    "- The \"i\" becomes `3`\n",
    "- The \"o\" becomes `4`\n",
    "- The \"u\" becomes `5`\n",
    "\n",
    "2) Consonants get `okkie` added to them, so:\n",
    "\n",
    "- \"b\" becomes `bokkie`\n",
    "- \"c\" becomes `cokkie`\n",
    "- \"d\" becomes `dokkie`\n",
    "- Etc.\n",
    "\n",
    "The following function receives one parameter `word`, which you can assume is a lowercase string. It returns the translation\n",
    "of the string into Wokkie Tokkie (with spaces between each \"letter\")"
   ]
  },
  {
   "cell_type": "code",
   "execution_count": 43,
   "metadata": {
    "collapsed": false,
    "pycharm": {
     "name": "#%%\n"
    }
   },
   "outputs": [
    {
     "data": {
      "text/plain": [
       "'hokkie 2 lokkie lokkie 4'"
      ]
     },
     "execution_count": 43,
     "metadata": {},
     "output_type": "execute_result"
    }
   ],
   "source": [
    "def wokkie_tokkie(word):\n",
    "    #FILL-IN: separate the word per character\n",
    "\ttranslate_rules = {\n",
    "\t\t\"a\": 1,\n",
    "\t\t\"e\": 2,\n",
    "\t\t\"i\": 3,\n",
    "\t\t\"o\": 4,\n",
    "\t\t\"u\": 5,\n",
    "\t}\n",
    "\twords = list(word)\n",
    "\tnew_word = []\n",
    "\tfor n in words:\n",
    "\t\tif n in translate_rules.keys():\n",
    "\t\t\tn = str(translate_rules[n])\n",
    "\t\telse:\n",
    "\t\t\tn += \"okkie\"\n",
    "\t\tnew_word.append(n)\n",
    "\ta = ' '.join(new_word)\n",
    "\treturn a\n",
    "\n",
    "\t#FILL-IN: translate the word into Wokkie Tokkie\n",
    "\t#FILL-IN: return the translated Wokkie Tokkie string\n",
    "\n",
    "\n",
    "wokkie_tokkie(\"aeibcd\")\n",
    "wokkie_tokkie(\"hello\")"
   ]
  },
  {
   "cell_type": "markdown",
   "metadata": {
    "collapsed": false
   },
   "source": [
    "For example, `wokkie_tokkie(\"hello\")` returns `\"hokkie 2 lokkie lokkie 4\"`\n",
    "\n",
    "---\n",
    "[Question 2d] (10 points). In bowling you will get 10 pins that you need to knock down. Normally\n",
    "the pins are grouped together in a reversed triangle, however this time all pins are placed\n",
    "next to each other, so a row of 10 pins. The following functions use two characters to\n",
    "represent the pins still standing `\"I\"` and the ones that are already knocked down `\".\"`.\n",
    "The following function receives two integers that represent the start to stop positions of the pins\n",
    "that were knocked down during one turn (include the start ánd the stop) and a list with\n",
    "characters that act as pins is provided in the function `['I', 'I', 'I', …, 'I']`. The start and stop position\n",
    "combined are the range of pins that are knocked down. It returns a list with the pins still\n",
    "standing `'I'` and with the ones that rolled over `'.'` (do not include any spaces).\n"
   ]
  },
  {
   "cell_type": "code",
   "execution_count": 57,
   "metadata": {
    "collapsed": false,
    "pycharm": {
     "name": "#%%\n"
    }
   },
   "outputs": [
    {
     "data": {
      "text/plain": [
       "['I', '.', '.', '.', 'I', 'I', 'I', 'I', 'I', 'I', 'I']"
      ]
     },
     "execution_count": 57,
     "metadata": {},
     "output_type": "execute_result"
    }
   ],
   "source": [
    "def remove_pins(start,end):\n",
    "    knock_down_gap = end-start+1\n",
    "    pins = ['I', 'I', 'I', 'I', 'I', 'I', 'I', 'I', 'I', 'I']\n",
    "    del pins[start:end]\n",
    "    for n in range(knock_down_gap):\n",
    "        pins.insert(start-1, '.')\n",
    "    return pins\n",
    "    # FILL-IN: get the subset of relevant elements in the list\n",
    "    # FILL-IN: replace them by '.'\n",
    "    # FILL-IN: return a list with the pins that are still standing or knocked down.\n",
    "\n",
    "remove_pins(2, 4)"
   ]
  },
  {
   "cell_type": "markdown",
   "metadata": {
    "collapsed": false
   },
   "source": [
    "For example, `remove_pins(2,4)` returns `['I', '.', '.', '.', 'I', 'I', 'I', 'I', 'I', 'I']`\n",
    "\n",
    "---\n",
    "[Question 2e] (10 points). Let's say you are going on a holiday. You are packing things, but have already packed some items.\n",
    "Therefore, you want to check if the items on your packing list are already packed or not. The following function receives a\n",
    "list with the luggage items and a list with already packed items and returns a dictionary containing all essentials you should bring as keys.\n",
    "The values are a Boolean value that tells you whether this item is already packed `True` (so whether it was in the already packed\n",
    "list) or if it is not `False` (so whether it is not in the already packed list)."
   ]
  },
  {
   "cell_type": "code",
   "execution_count": 58,
   "metadata": {
    "collapsed": false,
    "pycharm": {
     "name": "#%%\n"
    }
   },
   "outputs": [
    {
     "data": {
      "text/plain": [
       "{'passport': False,\n",
       " 'boarding pass': False,\n",
       " 'phone': True,\n",
       " 'phone charger': False}"
      ]
     },
     "execution_count": 58,
     "metadata": {},
     "output_type": "execute_result"
    }
   ],
   "source": [
    "def check_packing_list(packinglist, alreadypacked):\n",
    "    checklist = {}\n",
    "    for item in packinglist:\n",
    "        if item not in alreadypacked:\n",
    "            checklist[item]= False\n",
    "        else:\n",
    "            checklist[item]= True\n",
    "    return checklist\n",
    "\n",
    "packing_list = ['passport', 'boarding pass', 'phone', 'phone charger']\n",
    "already_packed = ['phone']\n",
    "check_packing_list(packing_list, already_packed)\n",
    "\n",
    "    #FILL-IN: go through all the items in the packinglist\n",
    "    #FILL-IN: check if the items are on the alreadypacked list or not\n",
    "    #FILL-IN: return a dictionary with the luggage items as key and the Boolean value whether it has been packed as its value."
   ]
  },
  {
   "cell_type": "markdown",
   "metadata": {
    "collapsed": false
   },
   "source": [
    "For example:\n",
    "\n",
    "`packing_list = ['passport', 'boarding pass', 'phone', 'phone charger']`<br>\n",
    "`already_packed = ['phone']`\n",
    "\n",
    "`check_packing_list(packing_list, already_packed)` returns `{'boarding pass': False, 'passport': False, 'phone': True, 'phone charger': False}`"
   ]
  }
 ],
 "metadata": {
  "kernelspec": {
   "display_name": "Python 3",
   "language": "python",
   "name": "python3"
  },
  "language_info": {
   "codemirror_mode": {
    "name": "ipython",
    "version": 3
   },
   "file_extension": ".py",
   "mimetype": "text/x-python",
   "name": "python",
   "nbconvert_exporter": "python",
   "pygments_lexer": "ipython3",
   "version": "3.9.13"
  }
 },
 "nbformat": 4,
 "nbformat_minor": 0
}
